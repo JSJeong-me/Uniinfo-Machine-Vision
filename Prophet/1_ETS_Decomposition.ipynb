{
  "nbformat": 4,
  "nbformat_minor": 0,
  "metadata": {
    "kernelspec": {
      "display_name": "Python 3",
      "language": "python",
      "name": "python3"
    },
    "language_info": {
      "codemirror_mode": {
        "name": "ipython",
        "version": 3
      },
      "file_extension": ".py",
      "mimetype": "text/x-python",
      "name": "python",
      "nbconvert_exporter": "python",
      "pygments_lexer": "ipython3",
      "version": "3.8.3"
    },
    "colab": {
      "name": "1-ETS_Decomposition.ipynb",
      "provenance": [],
      "include_colab_link": true
    }
  },
  "cells": [
    {
      "cell_type": "markdown",
      "metadata": {
        "id": "view-in-github",
        "colab_type": "text"
      },
      "source": [
        "<a href=\"https://colab.research.google.com/github/JSJeong-me/Uniinfo-Machine-Vision/blob/main/Prophet/1_ETS_Decomposition.ipynb\" target=\"_parent\"><img src=\"https://colab.research.google.com/assets/colab-badge.svg\" alt=\"Open In Colab\"/></a>"
      ]
    },
    {
      "cell_type": "markdown",
      "metadata": {
        "id": "qgPpadJ9wuSl"
      },
      "source": [
        "# ETS Decomposition"
      ]
    },
    {
      "cell_type": "code",
      "metadata": {
        "id": "XJJA5vDMwuSn"
      },
      "source": [
        "# !pip install statsmodels"
      ],
      "execution_count": null,
      "outputs": []
    },
    {
      "cell_type": "code",
      "metadata": {
        "id": "DPrPsWgKwuSp"
      },
      "source": [
        "import pandas as pd\n",
        "import numpy as np\n",
        "import matplotlib.pyplot as plt\n",
        "%matplotlib inline"
      ],
      "execution_count": null,
      "outputs": []
    },
    {
      "cell_type": "markdown",
      "metadata": {
        "id": "jp3JBewBwuSp"
      },
      "source": [
        "### Additive Model\n",
        "\n",
        "$y_t = Level + Trend + Seasonality + Noise$"
      ]
    },
    {
      "cell_type": "code",
      "metadata": {
        "id": "EZeZLHc1wuSq"
      },
      "source": [
        "from statsmodels.tsa.seasonal import seasonal_decompose"
      ],
      "execution_count": null,
      "outputs": []
    },
    {
      "cell_type": "code",
      "metadata": {
        "id": "NgeBvx3XwuSq"
      },
      "source": [
        "#dtype = {'region': str, 'sales_representative': np.int64, 'sales_amount': float}"
      ],
      "execution_count": null,
      "outputs": []
    },
    {
      "cell_type": "code",
      "metadata": {
        "id": "-nFCa6m0wuSq"
      },
      "source": [
        "df=pd.read_excel('Total_final.xlsx', index_col='TS', parse_dates=True, dtype={'Value':float})\n"
      ],
      "execution_count": null,
      "outputs": []
    },
    {
      "cell_type": "code",
      "metadata": {
        "id": "f1MpSERkxFWd"
      },
      "source": [
        "df.drop(['Unnamed: 0','Unnamed: 0.1', 'Time', 'Max Value','Date'], axis=1, inplace=True)\n"
      ],
      "execution_count": null,
      "outputs": []
    },
    {
      "cell_type": "code",
      "metadata": {
        "id": "T-qdVvcgxLZb"
      },
      "source": [
        "#df['Value']\n",
        "\n",
        "df_day=df.resample(rule='D').sum()\n",
        "\n",
        "#df_day\n",
        "\n",
        "df_day.drop(df_day.index[335], inplace=True)\n",
        "\n",
        "series_day = df_day['Value']"
      ],
      "execution_count": null,
      "outputs": []
    },
    {
      "cell_type": "code",
      "metadata": {
        "id": "UMUO7BdewuSr"
      },
      "source": [
        "series_day.head()"
      ],
      "execution_count": null,
      "outputs": []
    },
    {
      "cell_type": "code",
      "metadata": {
        "id": "d8islGpDwuSr"
      },
      "source": [
        ""
      ],
      "execution_count": null,
      "outputs": []
    },
    {
      "cell_type": "code",
      "metadata": {
        "id": "elmbwcUCwuSr"
      },
      "source": [
        "result_add = seasonal_decompose(series_day, model='additive')"
      ],
      "execution_count": null,
      "outputs": []
    },
    {
      "cell_type": "code",
      "metadata": {
        "id": "0YXAWtNzwuSr"
      },
      "source": [
        "def plot_decompose(decomposeresult):\n",
        "    fig, (ax1, ax2, ax3, ax4) = plt.subplots(4,1, figsize=(15,8))\n",
        "    decomposeresult.observed.plot(legend=False, ax=ax1)\n",
        "    ax1.set_ylabel('Observerd')\n",
        "    decomposeresult.trend.plot(legend=False, ax=ax2)\n",
        "    ax2.set_ylabel('Trend')\n",
        "    decomposeresult.seasonal.plot(legend=False, ax=ax3)\n",
        "    ax3.set_ylabel('Seasonal')\n",
        "    decomposeresult.resid.plot(legend=False, ax=ax4)\n",
        "    ax4.set_ylabel('Resid')"
      ],
      "execution_count": null,
      "outputs": []
    },
    {
      "cell_type": "code",
      "metadata": {
        "id": "TLZi0C-cwuSs"
      },
      "source": [
        "plot_decompose(result_add)"
      ],
      "execution_count": null,
      "outputs": []
    },
    {
      "cell_type": "markdown",
      "metadata": {
        "id": "TWg-vdjFwuSs"
      },
      "source": [
        "### Multiplicative Model\n",
        "\n",
        "$y_t = Level \\times Trend \\times Seasonality \\times Noise$"
      ]
    },
    {
      "cell_type": "code",
      "metadata": {
        "id": "1b9PKBlIwuSs"
      },
      "source": [
        "result_mul = seasonal_decompose(series_day, model='multiplicative')\n",
        "plot_decompose(result_mul)"
      ],
      "execution_count": null,
      "outputs": []
    },
    {
      "cell_type": "markdown",
      "metadata": {
        "id": "u3kHE_kfwuSt"
      },
      "source": [
        "## ETS\n",
        "\n",
        "linear trend 를 가지고 있고 seasonality 와 trend 컴포넌트가 시간흐름에 따라 고정적일 때 (ex 매년 승객 1만명 증가) additive model 을 사용합니다. non-linear 하게 증가하거나 감소하는 trend 를 보일 경우 (ex 매년 승객 수 두 배 증가) multiplicative model 이 더 적합합니다.\n",
        "\n",
        "챠트를 보면 초기에 비해 후기로 갈 수록 꾸준히 증가하는 비율로 비선형 증가 추세를 보이고 있습니다."
      ]
    },
    {
      "cell_type": "code",
      "metadata": {
        "id": "5-ASWR-EwuSt"
      },
      "source": [
        "df=pd.read_excel('Total_final.xlsx', index_col='TS', parse_dates=True, dtype={'Value':float})"
      ],
      "execution_count": null,
      "outputs": []
    },
    {
      "cell_type": "code",
      "metadata": {
        "id": "K5EqybCiwuSu"
      },
      "source": [
        "df.drop(['Unnamed: 0','Unnamed: 0.1', 'Time', 'Max Value','Date'], axis=1, inplace=True)"
      ],
      "execution_count": null,
      "outputs": []
    },
    {
      "cell_type": "code",
      "metadata": {
        "id": "lUhieJFswuSu"
      },
      "source": [
        "df.index = pd.to_datetime(df.index)"
      ],
      "execution_count": null,
      "outputs": []
    },
    {
      "cell_type": "code",
      "metadata": {
        "id": "D55OiO4DwuSu"
      },
      "source": [
        "df.info()"
      ],
      "execution_count": null,
      "outputs": []
    },
    {
      "cell_type": "code",
      "metadata": {
        "id": "VpTzv9XlwuSv"
      },
      "source": [
        "#df.drop(['Dates'], axis=1, inplace=True)\n",
        "df.drop(df.index[366], inplace=True)"
      ],
      "execution_count": null,
      "outputs": []
    },
    {
      "cell_type": "code",
      "metadata": {
        "id": "v5i_MeblwuSv"
      },
      "source": [
        "df=df.resample(rule='D').sum()"
      ],
      "execution_count": null,
      "outputs": []
    },
    {
      "cell_type": "code",
      "metadata": {
        "id": "XBIDX-wowuSv"
      },
      "source": [
        "df.head()"
      ],
      "execution_count": null,
      "outputs": []
    },
    {
      "cell_type": "code",
      "metadata": {
        "id": "yxVRLQwtwuSw"
      },
      "source": [
        "result = seasonal_decompose(df['Value'], model='multiplicative', freq=7)"
      ],
      "execution_count": null,
      "outputs": []
    },
    {
      "cell_type": "code",
      "metadata": {
        "id": "RHu7WMNTwuSw"
      },
      "source": [
        "plot_decompose(result)"
      ],
      "execution_count": null,
      "outputs": []
    },
    {
      "cell_type": "code",
      "metadata": {
        "id": "Ecq0UpIEwuSw"
      },
      "source": [
        ""
      ],
      "execution_count": null,
      "outputs": []
    }
  ]
}