{
  "cells": [
    {
      "cell_type": "markdown",
      "metadata": {
        "id": "view-in-github",
        "colab_type": "text"
      },
      "source": [
        "<a href=\"https://colab.research.google.com/github/JSJeong-me/Uniinfo-Machine-Vision/blob/main/Prophet/ENC6/TS2.ipynb\" target=\"_parent\"><img src=\"https://colab.research.google.com/assets/colab-badge.svg\" alt=\"Open In Colab\"/></a>"
      ]
    },
    {
      "cell_type": "code",
      "execution_count": null,
      "metadata": {
        "id": "y4ZODGcaF9lL"
      },
      "outputs": [],
      "source": [
        "!pip install xlrd==2.0.0"
      ]
    },
    {
      "cell_type": "code",
      "execution_count": null,
      "metadata": {
        "id": "dpqZrXasF9lN"
      },
      "outputs": [],
      "source": [
        "# Python\n",
        "import pandas as pd\n",
        "from fbprophet import Prophet"
      ]
    },
    {
      "cell_type": "code",
      "execution_count": null,
      "metadata": {
        "id": "eOqQKqqMF9lP"
      },
      "outputs": [],
      "source": [
        "df = pd.read_excel('Total_final2.xls', index_col='TS', parse_dates=True, dtype={'Value':float})\n",
        "df.drop(['Unnamed: 0','Unnamed: 0.1', 'Time', 'Max Value','Date'], axis=1, inplace=True)\n",
        "df.rename(columns={'TS':'ds','Value':'y'},inplace=True)"
      ]
    },
    {
      "cell_type": "code",
      "execution_count": null,
      "metadata": {
        "id": "a-wk3RurF9lQ"
      },
      "outputs": [],
      "source": [
        "df_day=df.resample(rule='D').sum()\n",
        "df_day=df_day.reset_index()\n",
        "df_day.columns"
      ]
    },
    {
      "cell_type": "code",
      "execution_count": null,
      "metadata": {
        "id": "_RzbuvEZF9lR"
      },
      "outputs": [],
      "source": [
        "df_day.rename(columns={'TS':'ds','Value':'y'},inplace=True)"
      ]
    },
    {
      "cell_type": "code",
      "execution_count": null,
      "metadata": {
        "id": "yogVT73RF9lR"
      },
      "outputs": [],
      "source": [
        "df_day.tail()"
      ]
    },
    {
      "cell_type": "code",
      "execution_count": null,
      "metadata": {
        "id": "TkNTLnf8F9lS"
      },
      "outputs": [],
      "source": [
        "m = Prophet()\n",
        "m.fit(df_day)"
      ]
    },
    {
      "cell_type": "code",
      "execution_count": null,
      "metadata": {
        "id": "oVYoZW0IF9lT"
      },
      "outputs": [],
      "source": [
        "future = m.make_future_dataframe(periods=100) # Forecasting 100 days\n",
        "future.tail()"
      ]
    },
    {
      "cell_type": "code",
      "execution_count": null,
      "metadata": {
        "id": "O7S8MyRNF9lU"
      },
      "outputs": [],
      "source": [
        "forecast = m.predict(future)\n",
        "forecast[['ds', 'yhat', 'yhat_lower', 'yhat_upper']].tail()"
      ]
    },
    {
      "cell_type": "code",
      "execution_count": null,
      "metadata": {
        "id": "Dm6NQ0UwF9lU"
      },
      "outputs": [],
      "source": [
        "fig1 = m.plot(forecast)"
      ]
    },
    {
      "cell_type": "code",
      "execution_count": null,
      "metadata": {
        "id": "7tYnh-G2F9lW"
      },
      "outputs": [],
      "source": [
        "fig2 = m.plot_components(forecast)"
      ]
    },
    {
      "cell_type": "code",
      "execution_count": null,
      "metadata": {
        "id": "75N0Mkd3F9lX"
      },
      "outputs": [],
      "source": [
        "from fbprophet.plot import plot_plotly\n",
        "import plotly.offline as py\n",
        "py.init_notebook_mode()\n",
        "\n",
        "fig = plot_plotly(m, forecast)  # This returns a plotly Figure\n",
        "py.iplot(fig)"
      ]
    },
    {
      "cell_type": "code",
      "execution_count": null,
      "metadata": {
        "id": "kTXHa0eqF9lY"
      },
      "outputs": [],
      "source": [
        ""
      ]
    }
  ],
  "metadata": {
    "kernelspec": {
      "display_name": "Python 3",
      "language": "python",
      "name": "python3"
    },
    "language_info": {
      "codemirror_mode": {
        "name": "ipython",
        "version": 3
      },
      "file_extension": ".py",
      "mimetype": "text/x-python",
      "name": "python",
      "nbconvert_exporter": "python",
      "pygments_lexer": "ipython3",
      "version": "3.7.6"
    },
    "colab": {
      "name": "TS2.ipynb",
      "provenance": [],
      "include_colab_link": true
    }
  },
  "nbformat": 4,
  "nbformat_minor": 0
}