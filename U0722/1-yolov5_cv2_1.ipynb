{
 "cells": [
  {
   "cell_type": "code",
   "execution_count": null,
   "id": "00e496dc-2851-4d51-9df5-96c222d4223b",
   "metadata": {},
   "outputs": [],
   "source": []
  },
  {
   "cell_type": "code",
   "execution_count": 1,
   "id": "da68b377-0609-455e-872f-f64f9931d75e",
   "metadata": {},
   "outputs": [
    {
     "name": "stderr",
     "output_type": "stream",
     "text": [
      "Using cache found in C:\\Users\\COM/.cache\\torch\\hub\\ultralytics_yolov5_master\n",
      "YOLOv5  2021-10-20 torch 1.9.1 CPU\n",
      "\n",
      "Fusing layers... \n",
      "Model Summary: 213 layers, 7225885 parameters, 0 gradients\n",
      "Adding AutoShape... \n"
     ]
    }
   ],
   "source": [
    "import torch\n",
    "\n",
    "# Model\n",
    "model = torch.hub.load('ultralytics/yolov5', 'yolov5s')"
   ]
  },
  {
   "cell_type": "code",
   "execution_count": 2,
   "id": "619c6914-5761-4e6c-ad62-7c2046a211da",
   "metadata": {},
   "outputs": [
    {
     "data": {
      "text/html": [
       "<div>\n",
       "<style scoped>\n",
       "    .dataframe tbody tr th:only-of-type {\n",
       "        vertical-align: middle;\n",
       "    }\n",
       "\n",
       "    .dataframe tbody tr th {\n",
       "        vertical-align: top;\n",
       "    }\n",
       "\n",
       "    .dataframe thead th {\n",
       "        text-align: right;\n",
       "    }\n",
       "</style>\n",
       "<table border=\"1\" class=\"dataframe\">\n",
       "  <thead>\n",
       "    <tr style=\"text-align: right;\">\n",
       "      <th></th>\n",
       "      <th>xmin</th>\n",
       "      <th>ymin</th>\n",
       "      <th>xmax</th>\n",
       "      <th>ymax</th>\n",
       "      <th>confidence</th>\n",
       "      <th>class</th>\n",
       "      <th>name</th>\n",
       "    </tr>\n",
       "  </thead>\n",
       "  <tbody>\n",
       "    <tr>\n",
       "      <th>0</th>\n",
       "      <td>254.549240</td>\n",
       "      <td>71.548798</td>\n",
       "      <td>869.02478</td>\n",
       "      <td>518.819885</td>\n",
       "      <td>0.929622</td>\n",
       "      <td>20</td>\n",
       "      <td>elephant</td>\n",
       "    </tr>\n",
       "    <tr>\n",
       "      <th>1</th>\n",
       "      <td>71.656578</td>\n",
       "      <td>171.454529</td>\n",
       "      <td>205.62381</td>\n",
       "      <td>318.118744</td>\n",
       "      <td>0.909864</td>\n",
       "      <td>20</td>\n",
       "      <td>elephant</td>\n",
       "    </tr>\n",
       "  </tbody>\n",
       "</table>\n",
       "</div>"
      ],
      "text/plain": [
       "         xmin        ymin       xmax        ymax  confidence  class      name\n",
       "0  254.549240   71.548798  869.02478  518.819885    0.929622     20  elephant\n",
       "1   71.656578  171.454529  205.62381  318.118744    0.909864     20  elephant"
      ]
     },
     "execution_count": 2,
     "metadata": {},
     "output_type": "execute_result"
    }
   ],
   "source": [
    "# Image\n",
    "img = '.\\\\elephant2.png'\n",
    "\n",
    "# Inference\n",
    "results = model(img)\n",
    "\n",
    "results.pandas().xyxy[0]"
   ]
  },
  {
   "cell_type": "code",
   "execution_count": 3,
   "id": "29def828-942c-4292-8ad4-215c22bb64ea",
   "metadata": {},
   "outputs": [],
   "source": [
    "import cv2"
   ]
  },
  {
   "cell_type": "code",
   "execution_count": 4,
   "id": "3e4d8429-b5ea-4bea-ab56-d3640092936d",
   "metadata": {},
   "outputs": [],
   "source": [
    "src = cv2.imread('.\\\\elephant2.png')"
   ]
  },
  {
   "cell_type": "code",
   "execution_count": 5,
   "id": "9457bde4-5c17-4b49-929f-34d56e18017b",
   "metadata": {},
   "outputs": [],
   "source": [
    "elephant1 = src[171:318, 71:205]"
   ]
  },
  {
   "cell_type": "code",
   "execution_count": 6,
   "id": "fadc8895-99f8-4431-acba-9a820ff0b8c8",
   "metadata": {},
   "outputs": [],
   "source": [
    "elephant2 = src[71:518, 254:869]"
   ]
  },
  {
   "cell_type": "code",
   "execution_count": 7,
   "id": "80b4a7c0-984b-49b1-9728-7bf6e7a5cba4",
   "metadata": {},
   "outputs": [
    {
     "data": {
      "text/plain": [
       "13"
      ]
     },
     "execution_count": 7,
     "metadata": {},
     "output_type": "execute_result"
    }
   ],
   "source": [
    "cv2.imshow('Image', src)\n",
    "cv2.imshow('Crop 1', elephant1)\n",
    "cv2.imshow('Crop 2', elephant2)\n",
    "cv2.waitKey(0) # 0 forever "
   ]
  },
  {
   "cell_type": "code",
   "execution_count": 8,
   "id": "f6ce56d1-3fc0-47f4-99ce-561172956313",
   "metadata": {},
   "outputs": [
    {
     "data": {
      "text/plain": [
       "True"
      ]
     },
     "execution_count": 8,
     "metadata": {},
     "output_type": "execute_result"
    }
   ],
   "source": [
    "cv2.imwrite('.\\\\crop_elephant1.png', elephant1)\n",
    "cv2.imwrite('.\\\\crop_elephant2.png', elephant2)"
   ]
  },
  {
   "cell_type": "code",
   "execution_count": 9,
   "id": "6f7be265-c38f-47ef-a4da-b4c939eba94b",
   "metadata": {},
   "outputs": [],
   "source": [
    "cv2.destroyAllWindows()"
   ]
  }
 ],
 "metadata": {
  "kernelspec": {
   "display_name": "Python KOSA",
   "language": "python",
   "name": "kosa"
  },
  "language_info": {
   "codemirror_mode": {
    "name": "ipython",
    "version": 3
   },
   "file_extension": ".py",
   "mimetype": "text/x-python",
   "name": "python",
   "nbconvert_exporter": "python",
   "pygments_lexer": "ipython3",
   "version": "3.8.12"
  }
 },
 "nbformat": 4,
 "nbformat_minor": 5
}
