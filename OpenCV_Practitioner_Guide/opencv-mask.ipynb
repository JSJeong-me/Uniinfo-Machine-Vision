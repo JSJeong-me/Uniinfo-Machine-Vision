{
  "nbformat": 4,
  "nbformat_minor": 0,
  "metadata": {
    "colab": {
      "name": "Untitled2.ipynb",
      "provenance": [],
      "machine_shape": "hm",
      "authorship_tag": "ABX9TyN0PHH1PdfrQoklN20r618M",
      "include_colab_link": true
    },
    "kernelspec": {
      "name": "python3",
      "display_name": "Python 3"
    },
    "language_info": {
      "name": "python"
    },
    "accelerator": "GPU"
  },
  "cells": [
    {
      "cell_type": "markdown",
      "metadata": {
        "id": "view-in-github",
        "colab_type": "text"
      },
      "source": [
        "<a href=\"https://colab.research.google.com/github/JSJeong-me/OpenCV_Practitioner_Guide_1/blob/main/opencv-mask.ipynb\" target=\"_parent\"><img src=\"https://colab.research.google.com/assets/colab-badge.svg\" alt=\"Open In Colab\"/></a>"
      ]
    },
    {
      "cell_type": "markdown",
      "metadata": {
        "id": "8-q0l2-3RI5L"
      },
      "source": [
        "low_yellow = [220, 194, 4]\n",
        "high_yellow = [255, 214, 59]"
      ]
    },
    {
      "cell_type": "code",
      "metadata": {
        "id": "VKszWaC3PsXj"
      },
      "source": [
        "import cv2\n",
        "from google.colab.patches import cv2_imshow"
      ],
      "execution_count": 1,
      "outputs": []
    },
    {
      "cell_type": "code",
      "metadata": {
        "id": "NsBpPrMXRZIU"
      },
      "source": [
        "src = cv2.imread('./bicycle.png', cv2.IMREAD_UNCHANGED)"
      ],
      "execution_count": 2,
      "outputs": []
    },
    {
      "cell_type": "code",
      "metadata": {
        "id": "6eQBR4TdRrUP"
      },
      "source": [
        "src.shape"
      ],
      "execution_count": null,
      "outputs": []
    },
    {
      "cell_type": "code",
      "metadata": {
        "id": "-qLJ22LORugX"
      },
      "source": [
        "cv2_imshow(src)"
      ],
      "execution_count": null,
      "outputs": []
    },
    {
      "cell_type": "code",
      "metadata": {
        "id": "Iug0b-VvSH1K"
      },
      "source": [
        "import numpy as np"
      ],
      "execution_count": 5,
      "outputs": []
    },
    {
      "cell_type": "code",
      "metadata": {
        "id": "Bjnb892RRyZL"
      },
      "source": [
        "low_yellow = np.array([220, 194, 4])\n",
        "high_yellow = np.array([255, 214, 59])"
      ],
      "execution_count": 6,
      "outputs": []
    },
    {
      "cell_type": "code",
      "metadata": {
        "id": "UXCafCA9TrPd"
      },
      "source": [
        "src_rgb = cv2.cvtColor(src, cv2.COLOR_BGR2RGB)"
      ],
      "execution_count": 7,
      "outputs": []
    },
    {
      "cell_type": "code",
      "metadata": {
        "id": "KSBReZosSMvv"
      },
      "source": [
        "mask = cv2.inRange(src_rgb, low_yellow, high_yellow)"
      ],
      "execution_count": 8,
      "outputs": []
    },
    {
      "cell_type": "code",
      "metadata": {
        "id": "fwzwm1UcU3_N"
      },
      "source": [
        "src_result = cv2.bitwise_and(src, src, mask = mask)"
      ],
      "execution_count": 9,
      "outputs": []
    },
    {
      "cell_type": "code",
      "metadata": {
        "id": "-Xz0p2GBV5uF"
      },
      "source": [
        "src_result = cv2.resize(src_result, (0,0), fx=0.3, fy=0.3)"
      ],
      "execution_count": 10,
      "outputs": []
    },
    {
      "cell_type": "code",
      "metadata": {
        "colab": {
          "base_uri": "https://localhost:8080/",
          "height": 477
        },
        "id": "8woEVEaqVEGw",
        "outputId": "82bc86df-869d-4529-e4bd-0027ba6b6e02"
      },
      "source": [
        "cv2_imshow(src_result)"
      ],
      "execution_count": 11,
      "outputs": [
        {
          "output_type": "display_data",
          "data": {
            "image/png": "[encoded data removed]",
            "text/plain": [
              "<PIL.Image.Image image mode=RGBA size=614x460 at 0x7F5984B38D50>"
            ]
          },
          "metadata": {}
        }
      ]
    }
  ]
}