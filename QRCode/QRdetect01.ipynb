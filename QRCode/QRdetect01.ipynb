{
  "nbformat": 4,
  "nbformat_minor": 0,
  "metadata": {
    "colab": {
      "provenance": [],
      "authorship_tag": "ABX9TyNjsUdhZAApBKxA92TVV4VA",
      "include_colab_link": true
    },
    "kernelspec": {
      "name": "python3",
      "display_name": "Python 3"
    },
    "language_info": {
      "name": "python"
    }
  },
  "cells": [
    {
      "cell_type": "markdown",
      "metadata": {
        "id": "view-in-github",
        "colab_type": "text"
      },
      "source": [
        "<a href=\"https://colab.research.google.com/github/JSJeong-me/Uniinfo-Machine-Vision/blob/main/QRCode/QRdetect01.ipynb\" target=\"_parent\"><img src=\"https://colab.research.google.com/assets/colab-badge.svg\" alt=\"Open In Colab\"/></a>"
      ]
    },
    {
      "cell_type": "code",
      "source": [
        "# !pip install zbar-py"
      ],
      "metadata": {
        "id": "dgDYxWLExe7N",
        "outputId": "ad0774ec-42c8-4189-cea6-ad9549632055",
        "colab": {
          "base_uri": "https://localhost:8080/"
        }
      },
      "execution_count": 1,
      "outputs": [
        {
          "output_type": "stream",
          "name": "stdout",
          "text": [
            "Looking in indexes: https://pypi.org/simple, https://us-python.pkg.dev/colab-wheels/public/simple/\n",
            "Collecting zbar-py\n",
            "  Downloading zbar-py-1.0.4.tar.gz (543 kB)\n",
            "\u001b[K     |████████████████████████████████| 543 kB 4.1 MB/s \n",
            "\u001b[?25hRequirement already satisfied: numpy in /usr/local/lib/python3.7/dist-packages (from zbar-py) (1.21.6)\n",
            "Building wheels for collected packages: zbar-py\n",
            "  Building wheel for zbar-py (setup.py) ... \u001b[?25l\u001b[?25hdone\n",
            "  Created wheel for zbar-py: filename=zbar_py-1.0.4-cp37-cp37m-linux_x86_64.whl size=201296 sha256=0ff860396377329a3669174f077b5d0a7a4d9c80bb10c889baae539421bfc43c\n",
            "  Stored in directory: /root/.cache/pip/wheels/87/19/bc/ae6963a059ba9263ed246bb6aac6328affc4936b81d9fd62a6\n",
            "Successfully built zbar-py\n",
            "Installing collected packages: zbar-py\n",
            "Successfully installed zbar-py-1.0.4\n"
          ]
        }
      ]
    },
    {
      "cell_type": "code",
      "source": [
        "# !pip install  opencv-python-headless"
      ],
      "metadata": {
        "id": "fHY6mg4mxikj",
        "outputId": "e0782e12-d508-49a1-d636-36a8d0a8b7b6",
        "colab": {
          "base_uri": "https://localhost:8080/"
        }
      },
      "execution_count": 2,
      "outputs": [
        {
          "output_type": "stream",
          "name": "stdout",
          "text": [
            "Looking in indexes: https://pypi.org/simple, https://us-python.pkg.dev/colab-wheels/public/simple/\n",
            "Requirement already satisfied: opencv-python-headless in /usr/local/lib/python3.7/dist-packages (4.6.0.66)\n",
            "Requirement already satisfied: numpy>=1.14.5 in /usr/local/lib/python3.7/dist-packages (from opencv-python-headless) (1.21.6)\n"
          ]
        }
      ]
    },
    {
      "cell_type": "code",
      "source": [
        "# -*- coding: utf-8 -*- \n",
        " \n",
        "import cv2\n",
        "import numpy as np"
      ],
      "metadata": {
        "id": "CqdGd4xhtr3P"
      },
      "execution_count": 3,
      "outputs": []
    },
    {
      "cell_type": "code",
      "source": [
        "inputImage = cv2.imread(\"qrcode.png\")\n"
      ],
      "metadata": {
        "id": "vKG3_6IFtueh"
      },
      "execution_count": 4,
      "outputs": []
    },
    {
      "cell_type": "code",
      "source": [
        "inputImage_interpol = cv2.resize(inputImage, None, fx=1, fy=1, interpolation=cv2.INTER_AREA)"
      ],
      "metadata": {
        "id": "12FKiZwluq62"
      },
      "execution_count": 13,
      "outputs": []
    },
    {
      "cell_type": "code",
      "source": [
        "inputImage.shape"
      ],
      "metadata": {
        "id": "rsjVcRbwt8UY",
        "outputId": "1b342856-68cb-469b-8427-27a5e68c1ccd",
        "colab": {
          "base_uri": "https://localhost:8080/"
        }
      },
      "execution_count": 5,
      "outputs": [
        {
          "output_type": "execute_result",
          "data": {
            "text/plain": [
              "(200, 200, 3)"
            ]
          },
          "metadata": {},
          "execution_count": 5
        }
      ]
    },
    {
      "cell_type": "code",
      "source": [
        "qrDecoder = cv2.QRCodeDetector()"
      ],
      "metadata": {
        "id": "Ylh8pZC0uCUt"
      },
      "execution_count": 6,
      "outputs": []
    },
    {
      "cell_type": "code",
      "source": [
        "type(qrDecoder)"
      ],
      "metadata": {
        "id": "pcRcYTS9uIJi",
        "outputId": "d48befd9-818b-4239-f591-8b4e59de18eb",
        "colab": {
          "base_uri": "https://localhost:8080/"
        }
      },
      "execution_count": 7,
      "outputs": [
        {
          "output_type": "execute_result",
          "data": {
            "text/plain": [
              "cv2.QRCodeDetector"
            ]
          },
          "metadata": {},
          "execution_count": 7
        }
      ]
    },
    {
      "cell_type": "code",
      "execution_count": 8,
      "metadata": {
        "id": "77NqBYLmwH3R",
        "outputId": "48fe3446-3245-46e7-ace7-5db59dd3cafb",
        "colab": {
          "base_uri": "https://localhost:8080/"
        }
      },
      "outputs": [
        {
          "output_type": "stream",
          "name": "stdout",
          "text": [
            "Decoded Data : https://www.jj.ac.kr/_custom/jj/_common/board/download.jsp?attach_no=185225\n"
          ]
        }
      ],
      "source": [
        "# QR코드를 찾고 디코드해줍니다\n",
        "data,bbox,rectifiedImage = qrDecoder.detectAndDecode(inputImage)\n",
        "if len(data)>0:\n",
        "    print(\"Decoded Data : {}\".format(data))\n",
        "    rectifiedImage = np.uint8(rectifiedImage)\n",
        " \n",
        "else:\n",
        "    print(\"QR Code not detected\")"
      ]
    },
    {
      "cell_type": "code",
      "source": [
        "from google.colab.patches import cv2_imshow"
      ],
      "metadata": {
        "id": "Xoiwje6quWsO"
      },
      "execution_count": 9,
      "outputs": []
    },
    {
      "cell_type": "code",
      "source": [
        "cv2_imshow(inputImage)"
      ],
      "metadata": {
        "id": "sO7GdFQMyD49",
        "outputId": "2d59ef04-df6f-41ce-f98a-e32b19f25641",
        "colab": {
          "base_uri": "https://localhost:8080/",
          "height": 217
        }
      },
      "execution_count": 10,
      "outputs": [
        {
          "output_type": "display_data",
          "data": {
            "text/plain": [
              "<PIL.Image.Image image mode=RGB size=200x200 at 0x7FC7D342DB10>"
            ],
            "image/png": "[encoded data removed]"
          },
          "metadata": {}
        }
      ]
    },
    {
      "cell_type": "code",
      "source": [
        "cv2_imshow(inputImage_interpol)"
      ],
      "metadata": {
        "id": "1TseGPvDuxXh",
        "outputId": "b78c25f9-0434-4452-c65c-06eb47a1a59a",
        "colab": {
          "base_uri": "https://localhost:8080/",
          "height": 217
        }
      },
      "execution_count": 14,
      "outputs": [
        {
          "output_type": "display_data",
          "data": {
            "text/plain": [
              "<PIL.Image.Image image mode=RGB size=200x200 at 0x7FC7D3339910>"
            ],
            "image/png": "[encoded data removed]"
          },
          "metadata": {}
        }
      ]
    },
    {
      "cell_type": "code",
      "source": [
        "# -*- coding: utf-8 -*- \n",
        " \n",
        "import zbar\n",
        "import cv2\n",
        " \n",
        "file_path = \"qrcode2.png\"\n",
        " \n",
        "# Zbar 라이브러리로 QR코드를 인식하기위해서 opcnCV로 이미지를 그레이 스케일로 읽어옵니다\n",
        "im = cv2.imread(file_path, cv2.IMREAD_GRAYSCALE)\n",
        " \n",
        " \n",
        "qrcode_data = \"\"\n",
        " \n",
        "#Zbar는 다중 QR 검출도 가능합니다\n",
        "#인식된 QR 데이터들을 가져옵니다\n",
        "scanner = zbar.Scanner()\n",
        "results = scanner.scan(im)\n",
        "for result in results:\n",
        "    qrcode_data = result.data\n",
        " \n",
        "# QR 코드가 인식이 되지 않았다면\n",
        "# QR Code not detected\n",
        "if(qrcode_data==\"null\"):\n",
        "    print(\"QR Code not detected\")\n",
        "else:\n",
        "    # QR 코드가 인식이 되었다면\n",
        "    # 인식된 QR 코드의 데이터를 출력해준다\n",
        "   print(\"Decoded Data : {}\".format(qrcode_data))"
      ],
      "metadata": {
        "id": "vk3onuIVyLkf"
      },
      "execution_count": null,
      "outputs": []
    }
  ]
}