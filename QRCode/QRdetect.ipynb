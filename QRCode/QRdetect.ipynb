{
  "nbformat": 4,
  "nbformat_minor": 0,
  "metadata": {
    "colab": {
      "provenance": [],
      "authorship_tag": "ABX9TyM2NqWsmAWzCUffa26pqTnM",
      "include_colab_link": true
    },
    "kernelspec": {
      "name": "python3",
      "display_name": "Python 3"
    },
    "language_info": {
      "name": "python"
    }
  },
  "cells": [
    {
      "cell_type": "markdown",
      "metadata": {
        "id": "view-in-github",
        "colab_type": "text"
      },
      "source": [
        "<a href=\"https://colab.research.google.com/github/JSJeong-me/Uniinfo-Machine-Vision/blob/main/QRCode/QRdetect.ipynb\" target=\"_parent\"><img src=\"https://colab.research.google.com/assets/colab-badge.svg\" alt=\"Open In Colab\"/></a>"
      ]
    },
    {
      "cell_type": "code",
      "source": [
        "!pip install zbar-py"
      ],
      "metadata": {
        "id": "dgDYxWLExe7N"
      },
      "execution_count": null,
      "outputs": []
    },
    {
      "cell_type": "code",
      "source": [
        "!pip install  opencv-python-headless"
      ],
      "metadata": {
        "id": "fHY6mg4mxikj"
      },
      "execution_count": null,
      "outputs": []
    },
    {
      "cell_type": "code",
      "execution_count": null,
      "metadata": {
        "id": "77NqBYLmwH3R"
      },
      "outputs": [],
      "source": [
        "# -*- coding: utf-8 -*- \n",
        " \n",
        "import cv2\n",
        "import numpy as np\n",
        " \n",
        " \n",
        " \n",
        "inputImage = cv2.imread(\"qrcode.png\")\n",
        "inputImage = cv2.resize(inputImage, None, fx=1, fy=1, interpolation=cv2.INTER_AREA)\n",
        " \n",
        "qrDecoder = cv2.QRCodeDetector()\n",
        " \n",
        "# QR코드를 찾고 디코드해줍니다\n",
        "data,bbox,rectifiedImage = qrDecoder.detectAndDecode(inputImage)\n",
        "if len(data)>0:\n",
        "    print(\"Decoded Data : {}\".format(data))\n",
        "    rectifiedImage = np.uint8(rectifiedImage)\n",
        " \n",
        "else:\n",
        "    print(\"QR Code not detected\")"
      ]
    },
    {
      "cell_type": "code",
      "source": [],
      "metadata": {
        "id": "sO7GdFQMyD49"
      },
      "execution_count": null,
      "outputs": []
    },
    {
      "cell_type": "code",
      "source": [
        "# -*- coding: utf-8 -*- \n",
        " \n",
        "import zbar\n",
        "import cv2\n",
        " \n",
        "file_path = \"qrcode2.png\"\n",
        " \n",
        "# Zbar 라이브러리로 QR코드를 인식하기위해서 opcnCV로 이미지를 그레이 스케일로 읽어옵니다\n",
        "im = cv2.imread(file_path, cv2.IMREAD_GRAYSCALE)\n",
        " \n",
        " \n",
        "qrcode_data = \"\"\n",
        " \n",
        "#Zbar는 다중 QR 검출도 가능합니다\n",
        "#인식된 QR 데이터들을 가져옵니다\n",
        "scanner = zbar.Scanner()\n",
        "results = scanner.scan(im)\n",
        "for result in results:\n",
        "    qrcode_data = result.data\n",
        " \n",
        "# QR 코드가 인식이 되지 않았다면\n",
        "# QR Code not detected\n",
        "if(qrcode_data==\"null\"):\n",
        "    print(\"QR Code not detected\")\n",
        "else:\n",
        "    # QR 코드가 인식이 되었다면\n",
        "    # 인식된 QR 코드의 데이터를 출력해준다\n",
        "   print(\"Decoded Data : {}\".format(qrcode_data))"
      ],
      "metadata": {
        "id": "vk3onuIVyLkf"
      },
      "execution_count": null,
      "outputs": []
    }
  ]
}