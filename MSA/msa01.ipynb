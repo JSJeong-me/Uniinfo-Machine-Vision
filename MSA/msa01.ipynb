{
  "nbformat": 4,
  "nbformat_minor": 0,
  "metadata": {
    "colab": {
      "name": "msa01.ipynb",
      "provenance": [],
      "authorship_tag": "ABX9TyMY6svgMYTRqyYo54o2fNvN",
      "include_colab_link": true
    },
    "kernelspec": {
      "name": "python3",
      "display_name": "Python 3"
    },
    "language_info": {
      "name": "python"
    }
  },
  "cells": [
    {
      "cell_type": "markdown",
      "metadata": {
        "id": "view-in-github",
        "colab_type": "text"
      },
      "source": [
        "<a href=\"https://colab.research.google.com/github/JSJeong-me/Uniinfo-Machine-Vision/blob/main/MSA/msa01.ipynb\" target=\"_parent\"><img src=\"https://colab.research.google.com/assets/colab-badge.svg\" alt=\"Open In Colab\"/></a>"
      ]
    },
    {
      "cell_type": "markdown",
      "source": [
        "### Platform"
      ],
      "metadata": {
        "id": "fuSlT7_mhu0G"
      }
    },
    {
      "cell_type": "code",
      "execution_count": null,
      "metadata": {
        "id": "Wdqsn5jUhQ8j"
      },
      "outputs": [],
      "source": [
        "import platform"
      ]
    },
    {
      "cell_type": "code",
      "source": [
        "platform.platform()"
      ],
      "metadata": {
        "id": "4e9ZRfceh18r"
      },
      "execution_count": null,
      "outputs": []
    },
    {
      "cell_type": "markdown",
      "source": [
        "### OS"
      ],
      "metadata": {
        "id": "iZRIyCq4iFTu"
      }
    },
    {
      "cell_type": "code",
      "source": [
        "!cat /etc/issue.net"
      ],
      "metadata": {
        "id": "94-twnnah40N"
      },
      "execution_count": null,
      "outputs": []
    },
    {
      "cell_type": "markdown",
      "source": [
        "### CPU"
      ],
      "metadata": {
        "id": "v7Hcz3ywiHzF"
      }
    },
    {
      "cell_type": "code",
      "source": [
        "!cat /proc/cpuinfo"
      ],
      "metadata": {
        "id": "h0eardGgh-Nl"
      },
      "execution_count": null,
      "outputs": []
    },
    {
      "cell_type": "markdown",
      "source": [
        "### Memory"
      ],
      "metadata": {
        "id": "rTCl-KAmiQ6n"
      }
    },
    {
      "cell_type": "code",
      "source": [
        "!cat /proc/meminfo"
      ],
      "metadata": {
        "id": "ynKvpeWViNnA"
      },
      "execution_count": null,
      "outputs": []
    },
    {
      "cell_type": "markdown",
      "source": [
        "### Disk"
      ],
      "metadata": {
        "id": "RZFxMUGCiYwu"
      }
    },
    {
      "cell_type": "code",
      "source": [
        "!df -h"
      ],
      "metadata": {
        "colab": {
          "base_uri": "https://localhost:8080/"
        },
        "id": "CMUEL6x_iVnU",
        "outputId": "9d60dde6-3aea-4db7-d185-d8b3c7ae6862"
      },
      "execution_count": 7,
      "outputs": [
        {
          "output_type": "stream",
          "name": "stdout",
          "text": [
            "Filesystem      Size  Used Avail Use% Mounted on\n",
            "overlay         108G   38G   71G  35% /\n",
            "tmpfs            64M     0   64M   0% /dev\n",
            "shm             5.8G     0  5.8G   0% /dev/shm\n",
            "/dev/root       2.0G  1.2G  812M  59% /sbin/docker-init\n",
            "tmpfs           6.4G   36K  6.4G   1% /var/colab\n",
            "/dev/sda1        81G   41G   40G  51% /etc/hosts\n",
            "tmpfs           6.4G     0  6.4G   0% /proc/acpi\n",
            "tmpfs           6.4G     0  6.4G   0% /proc/scsi\n",
            "tmpfs           6.4G     0  6.4G   0% /sys/firmware\n"
          ]
        }
      ]
    },
    {
      "cell_type": "markdown",
      "source": [
        "### Python"
      ],
      "metadata": {
        "id": "jc81I9fGicxm"
      }
    },
    {
      "cell_type": "code",
      "source": [
        "!python --version"
      ],
      "metadata": {
        "colab": {
          "base_uri": "https://localhost:8080/"
        },
        "id": "WOkXN2p7ibVH",
        "outputId": "8f1b2152-0e46-4e27-e664-c1b5918dee5e"
      },
      "execution_count": 8,
      "outputs": [
        {
          "output_type": "stream",
          "name": "stdout",
          "text": [
            "Python 3.7.13\n"
          ]
        }
      ]
    },
    {
      "cell_type": "code",
      "source": [
        ""
      ],
      "metadata": {
        "id": "lKm-OqHKighu"
      },
      "execution_count": null,
      "outputs": []
    }
  ]
}