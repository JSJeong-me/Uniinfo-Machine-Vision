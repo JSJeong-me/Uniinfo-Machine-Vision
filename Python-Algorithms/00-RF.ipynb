{
  "nbformat": 4,
  "nbformat_minor": 0,
  "metadata": {
    "colab": {
      "name": "Untitled31.ipynb",
      "provenance": [],
      "authorship_tag": "ABX9TyO8QFeeGNPuwbodum9DYg7D",
      "include_colab_link": true
    },
    "kernelspec": {
      "name": "python3",
      "display_name": "Python 3"
    },
    "language_info": {
      "name": "python"
    }
  },
  "cells": [
    {
      "cell_type": "markdown",
      "metadata": {
        "id": "view-in-github",
        "colab_type": "text"
      },
      "source": [
        "<a href=\"https://colab.research.google.com/github/JSJeong-me/Uniinfo-Machine-Vision/blob/main/Python-Algorithms/00-RF.ipynb\" target=\"_parent\"><img src=\"https://colab.research.google.com/assets/colab-badge.svg\" alt=\"Open In Colab\"/></a>"
      ]
    },
    {
      "cell_type": "code",
      "source": [
        "import pandas as pd\n",
        "from sklearn.model_selection import cross_val_score\n",
        "from sklearn.preprocessing import LabelEncoder\n",
        "from sklearn.model_selection import StratifiedKFold\n",
        "from sklearn.preprocessing import StandardScaler\n",
        "from sklearn.pipeline import Pipeline"
      ],
      "metadata": {
        "id": "4vJTMUSZJzRZ"
      },
      "execution_count": 1,
      "outputs": []
    },
    {
      "cell_type": "code",
      "execution_count": 2,
      "metadata": {
        "id": "opkb9ZkTIxL8"
      },
      "outputs": [],
      "source": [
        "from sklearn.ensemble import RandomForestClassifier\n",
        "from sklearn.datasets import make_classification\n",
        "from sklearn.model_selection import train_test_split"
      ]
    },
    {
      "cell_type": "code",
      "source": [
        "# load dataset\n",
        "dataframe = pd.read_csv(\"sonar.csv\", header=None)\n",
        "dataset = dataframe.values\n",
        "# split into input (X) and output (Y) variables"
      ],
      "metadata": {
        "id": "BxESjPEYJvNZ"
      },
      "execution_count": 3,
      "outputs": []
    },
    {
      "cell_type": "code",
      "source": [
        ""
      ],
      "metadata": {
        "id": "KOGZykw8K8FJ"
      },
      "execution_count": 3,
      "outputs": []
    },
    {
      "cell_type": "code",
      "source": [
        "X = dataset[:,0:60].astype(float)\n",
        "Y = dataset[:,60]\n",
        "# encode class values as integers\n",
        "encoder = LabelEncoder()\n",
        "encoder.fit(Y)\n",
        "encoded_Y = encoder.transform(Y)"
      ],
      "metadata": {
        "id": "WxCeod00I_5B"
      },
      "execution_count": 4,
      "outputs": []
    },
    {
      "cell_type": "code",
      "source": [
        "X[-1]"
      ],
      "metadata": {
        "colab": {
          "base_uri": "https://localhost:8080/"
        },
        "id": "6255mRCXLHHp",
        "outputId": "1f34f6a0-ed64-48ef-ff24-9c75d909d96d"
      },
      "execution_count": 5,
      "outputs": [
        {
          "output_type": "execute_result",
          "data": {
            "text/plain": [
              "array([0.026 , 0.0363, 0.0136, 0.0272, 0.0214, 0.0338, 0.0655, 0.14  ,\n",
              "       0.1843, 0.2354, 0.272 , 0.2442, 0.1665, 0.0336, 0.1302, 0.1708,\n",
              "       0.2177, 0.3175, 0.3714, 0.4552, 0.57  , 0.7397, 0.8062, 0.8837,\n",
              "       0.9432, 1.    , 0.9375, 0.7603, 0.7123, 0.8358, 0.7622, 0.4567,\n",
              "       0.1715, 0.1549, 0.1641, 0.1869, 0.2655, 0.1713, 0.0959, 0.0768,\n",
              "       0.0847, 0.2076, 0.2505, 0.1862, 0.1439, 0.147 , 0.0991, 0.0041,\n",
              "       0.0154, 0.0116, 0.0181, 0.0146, 0.0129, 0.0047, 0.0039, 0.0061,\n",
              "       0.004 , 0.0036, 0.0061, 0.0115])"
            ]
          },
          "metadata": {},
          "execution_count": 5
        }
      ]
    },
    {
      "cell_type": "code",
      "source": [
        "print(X.shape)\n",
        "print(Y.shape)"
      ],
      "metadata": {
        "colab": {
          "base_uri": "https://localhost:8080/"
        },
        "id": "v-qLm55yLF1R",
        "outputId": "8fddcfa3-7d50-41af-8dcd-0d71f84efbb5"
      },
      "execution_count": 6,
      "outputs": [
        {
          "output_type": "stream",
          "name": "stdout",
          "text": [
            "(208, 60)\n",
            "(208,)\n"
          ]
        }
      ]
    },
    {
      "cell_type": "code",
      "source": [
        "# X, y = make_classification(n_samples=1000, n_features=4,\n",
        "# ...                            n_informative=2, n_redundant=0,\n",
        "# ...                            random_state=0, shuffle=False)"
      ],
      "metadata": {
        "id": "07tY54l7KMfM"
      },
      "execution_count": 7,
      "outputs": []
    },
    {
      "cell_type": "code",
      "source": [
        "clf = RandomForestClassifier(max_depth=2, random_state=0)"
      ],
      "metadata": {
        "id": "EvUj3xBzKQE4"
      },
      "execution_count": 8,
      "outputs": []
    },
    {
      "cell_type": "code",
      "source": [
        "clf.fit(X, encoded_Y)"
      ],
      "metadata": {
        "colab": {
          "base_uri": "https://localhost:8080/"
        },
        "id": "ZNog1YHAKS3h",
        "outputId": "ea0cd726-2892-42b7-c2a7-c989f5f63771"
      },
      "execution_count": 9,
      "outputs": [
        {
          "output_type": "execute_result",
          "data": {
            "text/plain": [
              "RandomForestClassifier(max_depth=2, random_state=0)"
            ]
          },
          "metadata": {},
          "execution_count": 9
        }
      ]
    },
    {
      "cell_type": "code",
      "source": [
        "# RandomForestClassifier(...)\n",
        "print(clf.predict(X[0:3]))"
      ],
      "metadata": {
        "colab": {
          "base_uri": "https://localhost:8080/"
        },
        "id": "gk5OtRqeIx2J",
        "outputId": "d426a612-30f0-4b2c-bef5-76e2ecfa330f"
      },
      "execution_count": 10,
      "outputs": [
        {
          "output_type": "stream",
          "name": "stdout",
          "text": [
            "[1 0 0]\n"
          ]
        }
      ]
    },
    {
      "cell_type": "code",
      "source": [
        ""
      ],
      "metadata": {
        "id": "cV_-6pT1cYhi"
      },
      "execution_count": 10,
      "outputs": []
    }
  ]
}