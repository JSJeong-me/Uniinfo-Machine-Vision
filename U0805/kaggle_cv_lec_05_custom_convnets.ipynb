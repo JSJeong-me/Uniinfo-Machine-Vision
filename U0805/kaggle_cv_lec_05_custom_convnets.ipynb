{
  "metadata": {
    "kernelspec": {
      "language": "python",
      "display_name": "Python 3",
      "name": "python3"
    },
    "language_info": {
      "pygments_lexer": "ipython3",
      "nbconvert_exporter": "python",
      "version": "3.6.4",
      "file_extension": ".py",
      "codemirror_mode": {
        "name": "ipython",
        "version": 3
      },
      "name": "python",
      "mimetype": "text/x-python"
    },
    "colab": {
      "name": "kaggle-cv-lec-05-custom-convnets.ipynb",
      "provenance": [],
      "include_colab_link": true
    },
    "accelerator": "GPU",
    "gpuClass": "standard"
  },
  "nbformat_minor": 0,
  "nbformat": 4,
  "cells": [
    {
      "cell_type": "markdown",
      "metadata": {
        "id": "view-in-github",
        "colab_type": "text"
      },
      "source": [
        "<a href=\"https://colab.research.google.com/github/JSJeong-me/Uniinfo-Machine-Vision/blob/main/U0805/kaggle_cv_lec_05_custom_convnets.ipynb\" target=\"_parent\"><img src=\"https://colab.research.google.com/assets/colab-badge.svg\" alt=\"Open In Colab\"/></a>"
      ]
    },
    {
      "cell_type": "markdown",
      "source": [
        "# 소개  \n",
        "이제 특성 추출을 위해 합성곱 레이어가 사용하는 레이어를 살펴보았으니, 스스로 신경망을 만들어보자!"
      ],
      "metadata": {
        "id": "YCll-w8tvdUa"
      }
    },
    {
      "cell_type": "code",
      "source": [
        "from google.colab import drive\n",
        "drive.mount('/content/drive')"
      ],
      "metadata": {
        "id": "ZNblofJtnBTy",
        "outputId": "a14c8188-f12b-46ae-f886-f844c44b5d56",
        "colab": {
          "base_uri": "https://localhost:8080/"
        }
      },
      "execution_count": 1,
      "outputs": [
        {
          "output_type": "stream",
          "name": "stdout",
          "text": [
            "Mounted at /content/drive\n"
          ]
        }
      ]
    },
    {
      "cell_type": "markdown",
      "source": [
        "# 간단하게부터 세련되게까지 \n",
        "마지막 세 개의 레슨에서는, 합성곱 신경망이 필터링, 감지, 압축 세 과정을 통해 특성 추출을 하는 과정을 살펴보았다. 특성 추출을 한 번 하면 선의 형태와 대비 등 간단한 특징만 잡아낸다. 이는 대부분의 분류 문제를 해결하기에는 너무 간단하다. 대신, 합성곱 신경망은 특성 추출을 계속 반복하여 신경망이 깊게 학습할수록 더욱 '복잡하고 세련된' 특성을 감지하도록 한다.  \n",
        "<figure>\n",
        "<img src=\"https://i.imgur.com/VqmC1rm.png\" alt=\"Features extracted from an image of a car, from simple to refined.\" width=800>\n",
        "</figure>  "
      ],
      "metadata": {
        "id": "qAC5AqD8vdUn"
      }
    },
    {
      "cell_type": "markdown",
      "source": [
        "# 합성곱 블록\n",
        "이 방법은 특성 추출을 하는 '합성곱 블록' 여러 개를 통과시키게 하여 구현 가능하다.  \n",
        "<figure>\n",
        "<img src=\"https://i.imgur.com/pr8VwCZ.png\" width=\"400\" alt=\"Extraction as a sequence of blocks.\">\n",
        "</figure>  \n",
        "  \n",
        "  이런 합성곱 블록은 'Conv2D'와 'MaxPool2D' 레이어의 스택(stack)이다.  \n",
        "<figure>\n",
        "<!-- <img src=\"./images/2-block-crp.png\" width=\"400\" alt=\"A kind of extraction block: convolution, ReLU, pooling.\"> -->\n",
        "<img src=\"https://i.imgur.com/8D6IhEw.png\" width=\"400\" alt=\"A kind of extraction block: convolution, ReLU, pooling.\">\n",
        "</figure>  \n",
        "  \n",
        "  각 블록은 하나의 특성 추출 과정을 의미하고, 합성곱 신경망에서 이런 블록을 조합하면서 추출되는 특성을 분류 문제를 해결하기에 더욱 적합한 특성으로 재출력시킬 수 있다. 이렇듯 현대 합성곱 신경망의 깊은 구조가 압도적인 성능의 이유가 된다."
      ],
      "metadata": {
        "id": "9svXkwhDvdUt"
      }
    },
    {
      "cell_type": "markdown",
      "source": [
        "# 예시 - 합성곱 신경망 만들기  \n",
        "복잡한 특성을 추출할 수 있는 깊은 합성곱 신경망을 구현하는 과정을 살펴보자 이 예시에서는, 케라스의 Sequential 모델을 만들어 Cars 데이터셋에 훈련시킬 것이다.  \n",
        "## Step 1 - 데이터 불러오기  "
      ],
      "metadata": {
        "id": "sIbq2f_cvdUv"
      }
    },
    {
      "cell_type": "code",
      "source": [
        "!cp /content/drive/MyDrive/archive.zip ."
      ],
      "metadata": {
        "id": "JC97Tq-LngKc"
      },
      "execution_count": 2,
      "outputs": []
    },
    {
      "cell_type": "code",
      "source": [
        "!unzip archive.zip"
      ],
      "metadata": {
        "id": "amtckOuEnpDK"
      },
      "execution_count": null,
      "outputs": []
    },
    {
      "cell_type": "code",
      "source": [
        "import os, warnings\n",
        "import matplotlib.pyplot as plt\n",
        "from matplotlib import gridspec\n",
        "\n",
        "import numpy as np\n",
        "import tensorflow as tf\n",
        "from tensorflow.keras.preprocessing import image_dataset_from_directory\n",
        "\n",
        "# 시드 생성기\n",
        "def set_seed(seed=31415):\n",
        "    np.random.seed(seed)\n",
        "    tf.random.set_seed(seed)\n",
        "    os.environ['PYTHONHASHSEED'] = str(seed)\n",
        "    os.environ['TF_DETERMINISTIC_OPS'] = '1'\n",
        "set_seed()\n",
        "\n",
        "# matplotlib 사전 설정\n",
        "plt.rc('figure', autolayout=True)\n",
        "plt.rc('axes', labelweight='bold', labelsize='large',\n",
        "       titleweight='bold', titlesize=18, titlepad=10)\n",
        "plt.rc('image', cmap='magma')\n",
        "warnings.filterwarnings(\"ignore\") # 에러 메시지를 띄우지 않게 하여 출력창을 정리함\n",
        "\n",
        "# 훈련, 검증 데이터셋 불러오기\n",
        "ds_train_ = image_dataset_from_directory(\n",
        "    './train',\n",
        "    labels = 'inferred',\n",
        "    label_mode = 'binary',\n",
        "    image_size = [128, 128],\n",
        "    interpolation='nearest',\n",
        "    batch_size = 64,\n",
        "    shuffle = True\n",
        ")\n",
        "ds_valid_ = image_dataset_from_directory(\n",
        "    './valid',\n",
        "    labels='inferred',\n",
        "    label_mode='binary',\n",
        "    image_size=[128, 128],\n",
        "    interpolation='nearest',\n",
        "    batch_size=64,\n",
        "    shuffle=False\n",
        ")\n",
        "\n",
        "# 데이터 파이프라인\n",
        "def convert_to_float(image, label):\n",
        "    image = tf.image.convert_image_dtype(image, dtype=tf.float32)\n",
        "    return image, label\n",
        "\n",
        "AUTOTUNE = tf.data.experimental.AUTOTUNE\n",
        "ds_train = (ds_train_.map(convert_to_float).cache().prefetch(buffer_size=AUTOTUNE))\n",
        "ds_valid = (ds_valid_.map(convert_to_float).cache().prefetch(buffer_size=AUTOTUNE))"
      ],
      "metadata": {
        "_uuid": "8f2839f25d086af736a60e9eeb907d3b93b6e0e5",
        "_cell_guid": "b1076dfc-b9ad-4769-8c92-a6c4dae69d19",
        "trusted": true,
        "id": "qgvp9HaJvdUx",
        "outputId": "d413e8f2-8d94-4fdf-c71a-b2e9c83f7dd5",
        "colab": {
          "base_uri": "https://localhost:8080/"
        }
      },
      "execution_count": 4,
      "outputs": [
        {
          "output_type": "stream",
          "name": "stdout",
          "text": [
            "Found 5117 files belonging to 2 classes.\n",
            "Found 5051 files belonging to 2 classes.\n"
          ]
        }
      ]
    },
    {
      "cell_type": "markdown",
      "source": [
        "## Step 2 - 모델 정의하기\n",
        "아래는 우리가 사용할 모델의 모습니다.  \n",
        "<figure>\n",
        "<!-- <img src=\"./images/2-convmodel-1.png\" width=\"200\" alt=\"Diagram of a convolutional model.\"> -->\n",
        "<img src=\"https://i.imgur.com/U1VdoDJ.png\" width=\"250\" alt=\"Diagram of a convolutional model.\">\n",
        "</figure>  \n",
        "우리 모델은 베이스로 Conv2D와 MaxPool2D 레이어의 블럭이 3개, 헤드인 Dense 레이어들로 이루어진다. 이 구조를 파라미터만 잘 설정한다면 케라스의 Sequential 모델로 적을 수 있다."
      ],
      "metadata": {
        "id": "k2pQK-YTvdU3"
      }
    },
    {
      "cell_type": "code",
      "source": [
        "from tensorflow import keras\n",
        "from tensorflow.keras import layers\n",
        "\n",
        "model = keras.Sequential([\n",
        "    \n",
        "    # 첫 번째 합성곱 레이어\n",
        "    layers.Conv2D(filters = 32, kernel_size=3, activation='relu', padding='same',\n",
        "                 input_shape = [128,128,3]), # [높이, 너비, 컬러 채널(RGB)]로 입력값의 차원 정의\n",
        "    layers.MaxPool2D(),\n",
        "    \n",
        "    # 두 번째 합성곱 레이어\n",
        "    layers.Conv2D(filters=64, kernel_size=3, activation='relu', padding='same'),\n",
        "    layers.MaxPool2D(),\n",
        "    \n",
        "    # 세 번째 합성곱 레이어\n",
        "    layers.Conv2D(filters=128, kernel_size=3, activation='relu', padding='same'),\n",
        "    layers.MaxPool2D(),\n",
        "    \n",
        "    # 분류자 헤드\n",
        "    layers.Flatten(),\n",
        "    layers.Dense(units=6, activation='relu'),\n",
        "    layers.Dense(units=1, activation='sigmoid')\n",
        "])\n",
        "model.summary()"
      ],
      "metadata": {
        "trusted": true,
        "colab": {
          "base_uri": "https://localhost:8080/"
        },
        "id": "vuGo4-TyvdU8",
        "outputId": "7cdc8245-e2c1-44b4-d818-46465190af07"
      },
      "execution_count": 5,
      "outputs": [
        {
          "output_type": "stream",
          "name": "stdout",
          "text": [
            "Model: \"sequential\"\n",
            "_________________________________________________________________\n",
            " Layer (type)                Output Shape              Param #   \n",
            "=================================================================\n",
            " conv2d (Conv2D)             (None, 128, 128, 32)      896       \n",
            "                                                                 \n",
            " max_pooling2d (MaxPooling2D  (None, 64, 64, 32)       0         \n",
            " )                                                               \n",
            "                                                                 \n",
            " conv2d_1 (Conv2D)           (None, 64, 64, 64)        18496     \n",
            "                                                                 \n",
            " max_pooling2d_1 (MaxPooling  (None, 32, 32, 64)       0         \n",
            " 2D)                                                             \n",
            "                                                                 \n",
            " conv2d_2 (Conv2D)           (None, 32, 32, 128)       73856     \n",
            "                                                                 \n",
            " max_pooling2d_2 (MaxPooling  (None, 16, 16, 128)      0         \n",
            " 2D)                                                             \n",
            "                                                                 \n",
            " flatten (Flatten)           (None, 32768)             0         \n",
            "                                                                 \n",
            " dense (Dense)               (None, 6)                 196614    \n",
            "                                                                 \n",
            " dense_1 (Dense)             (None, 1)                 7         \n",
            "                                                                 \n",
            "=================================================================\n",
            "Total params: 289,869\n",
            "Trainable params: 289,869\n",
            "Non-trainable params: 0\n",
            "_________________________________________________________________\n"
          ]
        }
      ]
    },
    {
      "cell_type": "markdown",
      "source": [
        "블럭마다 필터의 크기는 증가한다 : 64, 128, 256. 이는 흔한 패턴이다. MaxPool2D 레이어가 특성 맵의 사이즈를 감소시키니, 그 개수를 증가시키는 것이다."
      ],
      "metadata": {
        "id": "sV921G-gvdU_"
      }
    },
    {
      "cell_type": "markdown",
      "source": [
        "## Step 3 - 훈련  \n",
        "이제 모델을 비용에 대해 최적화하여 이진 분류 문제에 걸맞게 훈련시키자."
      ],
      "metadata": {
        "id": "njeEDuM3vdVB"
      }
    },
    {
      "cell_type": "code",
      "source": [
        "model.compile(\n",
        "    optimizer = tf.keras.optimizers.Adam(epsilon = 0.01),\n",
        "    loss = 'binary_crossentropy',\n",
        "    metrics = ['binary_accuracy']\n",
        ")\n",
        "\n",
        "history = model.fit(\n",
        "    ds_train,\n",
        "    validation_data = ds_valid,\n",
        "    epochs = 40\n",
        ")"
      ],
      "metadata": {
        "trusted": true,
        "id": "n6760oZ7vdVD",
        "outputId": "39664c24-e01d-4627-b0dd-9bd187dcb336",
        "colab": {
          "base_uri": "https://localhost:8080/"
        }
      },
      "execution_count": 6,
      "outputs": [
        {
          "output_type": "stream",
          "name": "stdout",
          "text": [
            "Epoch 1/40\n",
            "80/80 [==============================] - 24s 136ms/step - loss: 0.6804 - binary_accuracy: 0.5710 - val_loss: 0.6658 - val_binary_accuracy: 0.5993\n",
            "Epoch 2/40\n",
            "80/80 [==============================] - 5s 59ms/step - loss: 0.6626 - binary_accuracy: 0.6021 - val_loss: 0.6540 - val_binary_accuracy: 0.6199\n",
            "Epoch 3/40\n",
            "80/80 [==============================] - 5s 59ms/step - loss: 0.6520 - binary_accuracy: 0.6172 - val_loss: 0.6460 - val_binary_accuracy: 0.6250\n",
            "Epoch 4/40\n",
            "80/80 [==============================] - 5s 59ms/step - loss: 0.6429 - binary_accuracy: 0.6236 - val_loss: 0.6374 - val_binary_accuracy: 0.6314\n",
            "Epoch 5/40\n",
            "80/80 [==============================] - 5s 59ms/step - loss: 0.6311 - binary_accuracy: 0.6414 - val_loss: 0.6272 - val_binary_accuracy: 0.6421\n",
            "Epoch 6/40\n",
            "80/80 [==============================] - 5s 59ms/step - loss: 0.6178 - binary_accuracy: 0.6607 - val_loss: 0.6212 - val_binary_accuracy: 0.6448\n",
            "Epoch 7/40\n",
            "80/80 [==============================] - 5s 60ms/step - loss: 0.6049 - binary_accuracy: 0.6750 - val_loss: 0.6211 - val_binary_accuracy: 0.6488\n",
            "Epoch 8/40\n",
            "80/80 [==============================] - 5s 60ms/step - loss: 0.5928 - binary_accuracy: 0.6875 - val_loss: 0.6158 - val_binary_accuracy: 0.6567\n",
            "Epoch 9/40\n",
            "80/80 [==============================] - 5s 60ms/step - loss: 0.5814 - binary_accuracy: 0.6987 - val_loss: 0.6064 - val_binary_accuracy: 0.6686\n",
            "Epoch 10/40\n",
            "80/80 [==============================] - 5s 60ms/step - loss: 0.5670 - binary_accuracy: 0.7117 - val_loss: 0.5812 - val_binary_accuracy: 0.6931\n",
            "Epoch 11/40\n",
            "80/80 [==============================] - 5s 60ms/step - loss: 0.5462 - binary_accuracy: 0.7344 - val_loss: 0.5659 - val_binary_accuracy: 0.7119\n",
            "Epoch 12/40\n",
            "80/80 [==============================] - 5s 60ms/step - loss: 0.5222 - binary_accuracy: 0.7522 - val_loss: 0.5481 - val_binary_accuracy: 0.7258\n",
            "Epoch 13/40\n",
            "80/80 [==============================] - 5s 61ms/step - loss: 0.4969 - binary_accuracy: 0.7712 - val_loss: 0.5290 - val_binary_accuracy: 0.7399\n",
            "Epoch 14/40\n",
            "80/80 [==============================] - 5s 62ms/step - loss: 0.4666 - binary_accuracy: 0.7874 - val_loss: 0.5124 - val_binary_accuracy: 0.7529\n",
            "Epoch 15/40\n",
            "80/80 [==============================] - 5s 61ms/step - loss: 0.4404 - binary_accuracy: 0.8067 - val_loss: 0.5049 - val_binary_accuracy: 0.7549\n",
            "Epoch 16/40\n",
            "80/80 [==============================] - 5s 63ms/step - loss: 0.4136 - binary_accuracy: 0.8204 - val_loss: 0.4872 - val_binary_accuracy: 0.7686\n",
            "Epoch 17/40\n",
            "80/80 [==============================] - 5s 63ms/step - loss: 0.3873 - binary_accuracy: 0.8351 - val_loss: 0.4713 - val_binary_accuracy: 0.7787\n",
            "Epoch 18/40\n",
            "80/80 [==============================] - 5s 62ms/step - loss: 0.3593 - binary_accuracy: 0.8489 - val_loss: 0.4795 - val_binary_accuracy: 0.7775\n",
            "Epoch 19/40\n",
            "80/80 [==============================] - 5s 65ms/step - loss: 0.3321 - binary_accuracy: 0.8644 - val_loss: 0.4732 - val_binary_accuracy: 0.7812\n",
            "Epoch 20/40\n",
            "80/80 [==============================] - 5s 64ms/step - loss: 0.3040 - binary_accuracy: 0.8784 - val_loss: 0.4759 - val_binary_accuracy: 0.7830\n",
            "Epoch 21/40\n",
            "80/80 [==============================] - 5s 63ms/step - loss: 0.2757 - binary_accuracy: 0.8921 - val_loss: 0.4838 - val_binary_accuracy: 0.7862\n",
            "Epoch 22/40\n",
            "80/80 [==============================] - 5s 62ms/step - loss: 0.2497 - binary_accuracy: 0.9021 - val_loss: 0.5073 - val_binary_accuracy: 0.7848\n",
            "Epoch 23/40\n",
            "80/80 [==============================] - 5s 63ms/step - loss: 0.2342 - binary_accuracy: 0.9081 - val_loss: 0.4915 - val_binary_accuracy: 0.7981\n",
            "Epoch 24/40\n",
            "80/80 [==============================] - 5s 63ms/step - loss: 0.2558 - binary_accuracy: 0.8902 - val_loss: 0.7608 - val_binary_accuracy: 0.7030\n",
            "Epoch 25/40\n",
            "80/80 [==============================] - 5s 63ms/step - loss: 0.2417 - binary_accuracy: 0.9013 - val_loss: 0.8291 - val_binary_accuracy: 0.7009\n",
            "Epoch 26/40\n",
            "80/80 [==============================] - 5s 63ms/step - loss: 0.2011 - binary_accuracy: 0.9224 - val_loss: 0.6809 - val_binary_accuracy: 0.7547\n",
            "Epoch 27/40\n",
            "80/80 [==============================] - 5s 64ms/step - loss: 0.1658 - binary_accuracy: 0.9410 - val_loss: 0.5921 - val_binary_accuracy: 0.7886\n",
            "Epoch 28/40\n",
            "80/80 [==============================] - 5s 65ms/step - loss: 0.1402 - binary_accuracy: 0.9564 - val_loss: 0.5872 - val_binary_accuracy: 0.7925\n",
            "Epoch 29/40\n",
            "80/80 [==============================] - 5s 65ms/step - loss: 0.1248 - binary_accuracy: 0.9607 - val_loss: 0.6030 - val_binary_accuracy: 0.7941\n",
            "Epoch 30/40\n",
            "80/80 [==============================] - 5s 65ms/step - loss: 0.1099 - binary_accuracy: 0.9633 - val_loss: 0.6070 - val_binary_accuracy: 0.7990\n",
            "Epoch 31/40\n",
            "80/80 [==============================] - 5s 64ms/step - loss: 0.1044 - binary_accuracy: 0.9648 - val_loss: 0.6590 - val_binary_accuracy: 0.7937\n",
            "Epoch 32/40\n",
            "80/80 [==============================] - 5s 64ms/step - loss: 0.1293 - binary_accuracy: 0.9494 - val_loss: 0.6393 - val_binary_accuracy: 0.7945\n",
            "Epoch 33/40\n",
            "80/80 [==============================] - 5s 65ms/step - loss: 0.2381 - binary_accuracy: 0.8986 - val_loss: 0.5451 - val_binary_accuracy: 0.7994\n",
            "Epoch 34/40\n",
            "80/80 [==============================] - 5s 64ms/step - loss: 0.1388 - binary_accuracy: 0.9492 - val_loss: 0.5877 - val_binary_accuracy: 0.7973\n",
            "Epoch 35/40\n",
            "80/80 [==============================] - 5s 63ms/step - loss: 0.1081 - binary_accuracy: 0.9611 - val_loss: 0.6940 - val_binary_accuracy: 0.7850\n",
            "Epoch 36/40\n",
            "80/80 [==============================] - 5s 63ms/step - loss: 0.1111 - binary_accuracy: 0.9617 - val_loss: 0.8146 - val_binary_accuracy: 0.7713\n",
            "Epoch 37/40\n",
            "80/80 [==============================] - 5s 63ms/step - loss: 0.0979 - binary_accuracy: 0.9681 - val_loss: 1.1267 - val_binary_accuracy: 0.7333\n",
            "Epoch 38/40\n",
            "80/80 [==============================] - 5s 64ms/step - loss: 0.0952 - binary_accuracy: 0.9637 - val_loss: 1.1149 - val_binary_accuracy: 0.7444\n",
            "Epoch 39/40\n",
            "80/80 [==============================] - 5s 64ms/step - loss: 0.1107 - binary_accuracy: 0.9584 - val_loss: 0.6839 - val_binary_accuracy: 0.8056\n",
            "Epoch 40/40\n",
            "80/80 [==============================] - 5s 63ms/step - loss: 0.1012 - binary_accuracy: 0.9582 - val_loss: 0.6711 - val_binary_accuracy: 0.8074\n"
          ]
        }
      ]
    },
    {
      "cell_type": "code",
      "source": [
        "import pandas as pd\n",
        "\n",
        "history_frame = pd.DataFrame(history.history)\n",
        "history_frame.loc[:, ['loss', 'val_loss']].plot()\n",
        "history_frame.loc[:, ['binary_accuracy', 'val_binary_accuracy']].plot();"
      ],
      "metadata": {
        "trusted": true,
        "id": "MYg-IrUdvdVF",
        "outputId": "1835c391-0579-4de3-ca44-9cd0c6b11a9f",
        "colab": {
          "base_uri": "https://localhost:8080/",
          "height": 577
        }
      },
      "execution_count": 7,
      "outputs": [
        {
          "output_type": "display_data",
          "data": {
            "text/plain": [
              "<Figure size 432x288 with 1 Axes>"
            ],
            "image/png": "[encoded data removed]"
          },
          "metadata": {
            "needs_background": "light"
          }
        },
        {
          "output_type": "display_data",
          "data": {
            "text/plain": [
              "<Figure size 432x288 with 1 Axes>"
            ],
            "image/png": "[encoded data removed]"
          },
          "metadata": {
            "needs_background": "light"
          }
        }
      ]
    },
    {
      "cell_type": "markdown",
      "source": [
        "이 모델은 첫 번째 레슨의 VGG16 모델보다 작다. 16개의 합성곱 레이어를 가진 VGG16에 비해 3개 밖에 없다. 그러나 데이터 셋을 어느 정도 잘 반영한다. 합성곱 레이어를 추가한다면 더욱 효과적일 것이다."
      ],
      "metadata": {
        "id": "zeSKelS6vdVH"
      }
    },
    {
      "cell_type": "markdown",
      "source": [
        "# 결론  \n",
        "이 튜토리얼에서는 어떻게 여러 개의 합성곱 블록으로 이루어진 합성곱 신경망을 만드는지를 살펴보았다."
      ],
      "metadata": {
        "id": "RmC6oyktvdVI"
      }
    }
  ]
}