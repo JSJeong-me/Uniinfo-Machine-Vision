{
  "nbformat": 4,
  "nbformat_minor": 0,
  "metadata": {
    "colab": {
      "name": "Untitled3.ipynb",
      "provenance": [],
      "authorship_tag": "ABX9TyPfwACNGaJog8RWWKNUrbDS",
      "include_colab_link": true
    },
    "kernelspec": {
      "name": "python3",
      "display_name": "Python 3"
    },
    "language_info": {
      "name": "python"
    }
  },
  "cells": [
    {
      "cell_type": "markdown",
      "metadata": {
        "id": "view-in-github",
        "colab_type": "text"
      },
      "source": [
        "<a href=\"https://colab.research.google.com/github/JSJeong-me/Uniinfo-Machine-Vision/blob/main/U0805/1-zbar.ipynb\" target=\"_parent\"><img src=\"https://colab.research.google.com/assets/colab-badge.svg\" alt=\"Open In Colab\"/></a>"
      ]
    },
    {
      "cell_type": "code",
      "execution_count": null,
      "metadata": {
        "id": "k7IsDETPBQk1"
      },
      "outputs": [],
      "source": [
        "# !!apt install libzbar0"
      ]
    },
    {
      "cell_type": "code",
      "source": [
        "# !pip install pyzbar==0.1.9"
      ],
      "metadata": {
        "id": "Oe7MO9BVBX3w"
      },
      "execution_count": null,
      "outputs": []
    },
    {
      "cell_type": "code",
      "source": [
        "import zbar\n",
        "\n",
        "scanner = zbar.ImageScanner()\n",
        "image = zbar.Image(width, height, 'Y800', raw_data)\n",
        "scanner.scan(image)\n",
        "for symbol in image:\n",
        "    print 'decoded', symbol.type, 'symbol', '\"%s\"' % symbol.data"
      ],
      "metadata": {
        "id": "xplxa_iLBTvK"
      },
      "execution_count": null,
      "outputs": []
    }
  ]
}