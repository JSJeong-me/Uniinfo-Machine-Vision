{
  "metadata": {
    "kernelspec": {
      "language": "python",
      "display_name": "Python 3",
      "name": "python3"
    },
    "language_info": {
      "pygments_lexer": "ipython3",
      "nbconvert_exporter": "python",
      "version": "3.6.4",
      "file_extension": ".py",
      "codemirror_mode": {
        "name": "ipython",
        "version": 3
      },
      "name": "python",
      "mimetype": "text/x-python"
    },
    "colab": {
      "name": "kaggle-cv-lec-05-custom-convnets.ipynb",
      "provenance": [],
      "include_colab_link": true
    },
    "accelerator": "GPU",
    "gpuClass": "standard"
  },
  "nbformat_minor": 0,
  "nbformat": 4,
  "cells": [
    {
      "cell_type": "markdown",
      "metadata": {
        "id": "view-in-github",
        "colab_type": "text"
      },
      "source": [
        "<a href=\"https://colab.research.google.com/github/JSJeong-me/Uniinfo-Machine-Vision/blob/main/U0805/kaggle_cv_lec_05_0812-custom_convnets.ipynb\" target=\"_parent\"><img src=\"https://colab.research.google.com/assets/colab-badge.svg\" alt=\"Open In Colab\"/></a>"
      ]
    },
    {
      "cell_type": "code",
      "source": [
        "# from google.colab import drive\n",
        "# drive.mount('/content/drive')"
      ],
      "metadata": {
        "id": "KS0kd9dNugp-"
      },
      "execution_count": 1,
      "outputs": []
    },
    {
      "cell_type": "markdown",
      "source": [
        "# 소개  \n",
        "이제 특성 추출을 위해 합성곱 레이어가 사용하는 레이어를 살펴보았으니, 스스로 신경망을 만들어보자!"
      ],
      "metadata": {
        "id": "dwDeE0iiuMVT"
      }
    },
    {
      "cell_type": "code",
      "source": [
        "# !cp /content/drive/MyDrive/archive.zip ."
      ],
      "metadata": {
        "id": "u32jmB_-u0wD"
      },
      "execution_count": 2,
      "outputs": []
    },
    {
      "cell_type": "code",
      "source": [
        "# !unzip archive.zip"
      ],
      "metadata": {
        "id": "3tBb6N8CvDus"
      },
      "execution_count": 3,
      "outputs": []
    },
    {
      "cell_type": "markdown",
      "source": [
        "# 간단하게부터 세련되게까지 \n",
        "마지막 세 개의 레슨에서는, 합성곱 신경망이 필터링, 감지, 압축 세 과정을 통해 특성 추출을 하는 과정을 살펴보았다. 특성 추출을 한 번 하면 선의 형태와 대비 등 간단한 특징만 잡아낸다. 이는 대부분의 분류 문제를 해결하기에는 너무 간단하다. 대신, 합성곱 신경망은 특성 추출을 계속 반복하여 신경망이 깊게 학습할수록 더욱 '복잡하고 세련된' 특성을 감지하도록 한다.  \n",
        "<figure>\n",
        "<img src=\"https://i.imgur.com/VqmC1rm.png\" alt=\"Features extracted from an image of a car, from simple to refined.\" width=800>\n",
        "</figure>  "
      ],
      "metadata": {
        "id": "0RJjL9TjuMV1"
      }
    },
    {
      "cell_type": "markdown",
      "source": [
        "# 합성곱 블록\n",
        "이 방법은 특성 추출을 하는 '합성곱 블록' 여러 개를 통과시키게 하여 구현 가능하다.  \n",
        "<figure>\n",
        "<img src=\"https://i.imgur.com/pr8VwCZ.png\" width=\"400\" alt=\"Extraction as a sequence of blocks.\">\n",
        "</figure>  \n",
        "  \n",
        "  이런 합성곱 블록은 'Conv2D'와 'MaxPool2D' 레이어의 스택(stack)이다.  \n",
        "<figure>\n",
        "<!-- <img src=\"./images/2-block-crp.png\" width=\"400\" alt=\"A kind of extraction block: convolution, ReLU, pooling.\"> -->\n",
        "<img src=\"https://i.imgur.com/8D6IhEw.png\" width=\"400\" alt=\"A kind of extraction block: convolution, ReLU, pooling.\">\n",
        "</figure>  \n",
        "  \n",
        "  각 블록은 하나의 특성 추출 과정을 의미하고, 합성곱 신경망에서 이런 블록을 조합하면서 추출되는 특성을 분류 문제를 해결하기에 더욱 적합한 특성으로 재출력시킬 수 있다. 이렇듯 현대 합성곱 신경망의 깊은 구조가 압도적인 성능의 이유가 된다."
      ],
      "metadata": {
        "id": "u49j7zm5uMWF"
      }
    },
    {
      "cell_type": "markdown",
      "source": [
        "# 예시 - 합성곱 신경망 만들기  \n",
        "복잡한 특성을 추출할 수 있는 깊은 합성곱 신경망을 구현하는 과정을 살펴보자 이 예시에서는, 케라스의 Sequential 모델을 만들어 Cars 데이터셋에 훈련시킬 것이다.  \n",
        "## Step 1 - 데이터 불러오기  "
      ],
      "metadata": {
        "id": "IAk4UOW8uMWJ"
      }
    },
    {
      "cell_type": "code",
      "source": [
        "import os, warnings\n",
        "import matplotlib.pyplot as plt\n",
        "from matplotlib import gridspec\n",
        "\n",
        "import numpy as np\n",
        "import tensorflow as tf\n",
        "from tensorflow.keras.preprocessing import image_dataset_from_directory"
      ],
      "metadata": {
        "id": "e-tQ0mOrygaE"
      },
      "execution_count": 4,
      "outputs": []
    },
    {
      "cell_type": "code",
      "source": [
        "# 시드 생성기\n",
        "def set_seed(seed=31415):\n",
        "    np.random.seed(seed)\n",
        "    tf.random.set_seed(seed)\n",
        "    os.environ['PYTHONHASHSEED'] = str(seed)\n",
        "    os.environ['TF_DETERMINISTIC_OPS'] = '1'\n",
        "set_seed()"
      ],
      "metadata": {
        "id": "SpeJ8FfHy2Wo"
      },
      "execution_count": 5,
      "outputs": []
    },
    {
      "cell_type": "code",
      "source": [
        "# matplotlib 사전 설정\n",
        "plt.rc('figure', autolayout=True)\n",
        "plt.rc('axes', labelweight='bold', labelsize='large',\n",
        "       titleweight='bold', titlesize=18, titlepad=10)\n",
        "plt.rc('image', cmap='magma')\n",
        "warnings.filterwarnings(\"ignore\") # 에러 메시지를 띄우지 않게 하여 출력창을 정리함"
      ],
      "metadata": {
        "id": "zHUWijXuy77P"
      },
      "execution_count": 6,
      "outputs": []
    },
    {
      "cell_type": "code",
      "source": [
        "# 훈련, 검증 데이터셋 불러오기\n",
        "ds_train_ = image_dataset_from_directory(\n",
        "    './train',\n",
        "    labels = 'inferred',\n",
        "    label_mode = 'binary',\n",
        "    image_size = [128, 128],\n",
        "    interpolation='nearest',\n",
        "    batch_size = 64,\n",
        "    shuffle = True\n",
        ")"
      ],
      "metadata": {
        "colab": {
          "base_uri": "https://localhost:8080/"
        },
        "id": "2NJ4MxPDy_FA",
        "outputId": "8ac52221-9327-4653-f343-b8a5952d6ca9"
      },
      "execution_count": 7,
      "outputs": [
        {
          "output_type": "stream",
          "name": "stdout",
          "text": [
            "Found 5117 files belonging to 2 classes.\n"
          ]
        }
      ]
    },
    {
      "cell_type": "code",
      "source": [
        "type(ds_train_)"
      ],
      "metadata": {
        "colab": {
          "base_uri": "https://localhost:8080/"
        },
        "id": "UsTV9PtozDHR",
        "outputId": "62e677c7-0a8a-402f-f594-b55bef791b51"
      },
      "execution_count": 8,
      "outputs": [
        {
          "output_type": "execute_result",
          "data": {
            "text/plain": [
              "tensorflow.python.data.ops.dataset_ops.BatchDataset"
            ]
          },
          "metadata": {},
          "execution_count": 8
        }
      ]
    },
    {
      "cell_type": "code",
      "source": [
        "ds_valid_ = image_dataset_from_directory(\n",
        "    './valid',\n",
        "    labels='inferred',\n",
        "    label_mode='binary',\n",
        "    image_size=[128, 128],\n",
        "    interpolation='nearest',\n",
        "    batch_size=64,\n",
        "    shuffle=False\n",
        ")"
      ],
      "metadata": {
        "colab": {
          "base_uri": "https://localhost:8080/"
        },
        "id": "yCObn2h-zOXn",
        "outputId": "34893c27-c51e-4cf6-ab86-c406d36e9554"
      },
      "execution_count": 9,
      "outputs": [
        {
          "output_type": "stream",
          "name": "stdout",
          "text": [
            "Found 5051 files belonging to 2 classes.\n"
          ]
        }
      ]
    },
    {
      "cell_type": "code",
      "source": [
        "# 데이터 파이프라인\n",
        "def convert_to_float(image, label):\n",
        "    image = tf.image.convert_image_dtype(image, dtype=tf.float32)\n",
        "    return image, label\n",
        "\n",
        "AUTOTUNE = tf.data.experimental.AUTOTUNE\n",
        "ds_train = (ds_train_.map(convert_to_float).cache().prefetch(buffer_size=AUTOTUNE))\n",
        "ds_valid = (ds_valid_.map(convert_to_float).cache().prefetch(buffer_size=AUTOTUNE))"
      ],
      "metadata": {
        "_uuid": "8f2839f25d086af736a60e9eeb907d3b93b6e0e5",
        "_cell_guid": "b1076dfc-b9ad-4769-8c92-a6c4dae69d19",
        "trusted": true,
        "id": "G-E3CpHiuMWX"
      },
      "execution_count": 10,
      "outputs": []
    },
    {
      "cell_type": "markdown",
      "source": [
        "## Step 2 - 모델 정의하기\n",
        "아래는 우리가 사용할 모델의 모습니다.  \n",
        "<figure>\n",
        "<!-- <img src=\"./images/2-convmodel-1.png\" width=\"200\" alt=\"Diagram of a convolutional model.\"> -->\n",
        "<img src=\"https://i.imgur.com/U1VdoDJ.png\" width=\"250\" alt=\"Diagram of a convolutional model.\">\n",
        "</figure>  \n",
        "우리 모델은 베이스로 Conv2D와 MaxPool2D 레이어의 블럭이 3개, 헤드인 Dense 레이어들로 이루어진다. 이 구조를 파라미터만 잘 설정한다면 케라스의 Sequential 모델로 적을 수 있다."
      ],
      "metadata": {
        "id": "nKvQFVcXuMWi"
      }
    },
    {
      "cell_type": "code",
      "source": [
        "from tensorflow import keras\n",
        "from tensorflow.keras import layers"
      ],
      "metadata": {
        "id": "WpvqqvM7z4Et"
      },
      "execution_count": 11,
      "outputs": []
    },
    {
      "cell_type": "code",
      "source": [
        "# model = keras.Sequential()\n",
        "# model.summary()"
      ],
      "metadata": {
        "trusted": true,
        "id": "4VztmuTSuMWl"
      },
      "execution_count": 12,
      "outputs": []
    },
    {
      "cell_type": "markdown",
      "source": [
        "블럭마다 필터의 크기는 증가한다 : 64, 128, 256. 이는 흔한 패턴이다. MaxPool2D 레이어가 특성 맵의 사이즈를 감소시키니, 그 개수를 증가시키는 것이다."
      ],
      "metadata": {
        "id": "T5vzQcb9uMWo"
      }
    },
    {
      "cell_type": "markdown",
      "source": [
        "## Step 3 - 훈련  \n",
        "이제 모델을 비용에 대해 최적화하여 이진 분류 문제에 걸맞게 훈련시키자."
      ],
      "metadata": {
        "id": "dacucI3BuMWq"
      }
    },
    {
      "cell_type": "code",
      "source": [
        "model_layers= [\n",
        "    \n",
        "    # 첫 번째 합성곱 레이어\n",
        "    layers.Conv2D(filters = 32, kernel_size=3, activation='relu', padding='same',\n",
        "                 input_shape = [128,128,3]), # [높이, 너비, 컬러 채널(RGB)]로 입력값의 차원 정의\n",
        "    layers.BatchNormalization(),\n",
        "    layers.MaxPool2D(),\n",
        "\n",
        "    \n",
        "    # 두 번째 합성곱 레이어\n",
        "    layers.Conv2D(filters=64, kernel_size=3, activation='relu', padding='same'),\n",
        "    layers.BatchNormalization(),\n",
        "    layers.MaxPool2D(),\n",
        "\n",
        "    \n",
        "    # 세 번째 합성곱 레이어\n",
        "    layers.Conv2D(filters=128, kernel_size=3, activation='relu', padding='same'),\n",
        "    layers.MaxPool2D(),\n",
        "    \n",
        "    # 분류자 헤드\n",
        "    layers.Flatten(),\n",
        "    layers.Dropout(rate=0.3),\n",
        "    layers.Dense(units=6, activation='relu'),\n",
        "    layers.BatchNormalization(),\n",
        "    layers.Dense(units=1, activation='sigmoid')\n",
        "]"
      ],
      "metadata": {
        "id": "8oEBULQ_z-Le"
      },
      "execution_count": 13,
      "outputs": []
    },
    {
      "cell_type": "code",
      "source": [
        "model = keras.Sequential(model_layers)"
      ],
      "metadata": {
        "id": "d51kP-EI0Wa2"
      },
      "execution_count": 14,
      "outputs": []
    },
    {
      "cell_type": "code",
      "source": [
        "model.summary()"
      ],
      "metadata": {
        "id": "a3NTDY3O0tI-"
      },
      "execution_count": null,
      "outputs": []
    },
    {
      "cell_type": "code",
      "source": [
        "model.compile(\n",
        "    optimizer = tf.keras.optimizers.Adam(epsilon = 0.01),\n",
        "    loss = 'binary_crossentropy',\n",
        "    metrics = ['binary_accuracy']\n",
        ")"
      ],
      "metadata": {
        "id": "hmfxmGnC1e-U"
      },
      "execution_count": 16,
      "outputs": []
    },
    {
      "cell_type": "code",
      "source": [
        "history = model.fit(\n",
        "    ds_train,\n",
        "    validation_data = ds_valid,\n",
        "    epochs = 40\n",
        ")"
      ],
      "metadata": {
        "trusted": true,
        "id": "8bEWXnCCuMWt"
      },
      "execution_count": null,
      "outputs": []
    },
    {
      "cell_type": "code",
      "source": [
        "import pandas as pd\n",
        "\n",
        "history_frame = pd.DataFrame(history.history)"
      ],
      "metadata": {
        "id": "bgeJ20972ySr"
      },
      "execution_count": 18,
      "outputs": []
    },
    {
      "cell_type": "code",
      "source": [
        "history_frame.loc[:, ['loss', 'val_loss']].plot()"
      ],
      "metadata": {
        "colab": {
          "base_uri": "https://localhost:8080/",
          "height": 315
        },
        "id": "ZqhBQw6Q2x9Z",
        "outputId": "b646a882-9be8-4284-af9b-0cdee61e50a4"
      },
      "execution_count": 19,
      "outputs": [
        {
          "output_type": "execute_result",
          "data": {
            "text/plain": [
              "<matplotlib.axes._subplots.AxesSubplot at 0x7ff57210c3d0>"
            ]
          },
          "metadata": {},
          "execution_count": 19
        },
        {
          "output_type": "display_data",
          "data": {
            "text/plain": [
              "<Figure size 432x288 with 1 Axes>"
            ],
            "image/png": "[encoded data removed]"
          },
          "metadata": {
            "needs_background": "light"
          }
        }
      ]
    },
    {
      "cell_type": "code",
      "source": [
        "history_frame.loc[:, ['binary_accuracy', 'val_binary_accuracy']].plot();"
      ],
      "metadata": {
        "trusted": true,
        "colab": {
          "base_uri": "https://localhost:8080/",
          "height": 297
        },
        "id": "9Yq0VFBFuMWx",
        "outputId": "bba2246d-8d27-4b67-d454-857c36853bb4"
      },
      "execution_count": 20,
      "outputs": [
        {
          "output_type": "display_data",
          "data": {
            "text/plain": [
              "<Figure size 432x288 with 1 Axes>"
            ],
            "image/png": "[encoded data removed]"
          },
          "metadata": {
            "needs_background": "light"
          }
        }
      ]
    },
    {
      "cell_type": "code",
      "source": [
        "# # Evaluate the model on the test data using `evaluate`\n",
        "# print(\"Evaluate on test data\")\n",
        "# results = model.evaluate(ds_valid, y_test, batch_size=128)\n",
        "# print(\"test loss, test acc:\", results)\n",
        "\n",
        "# Generate predictions (probabilities -- the output of the last layer)\n",
        "# on new data using `predict`\n",
        "# print(\"Generate predictions for 3 samples\")\n",
        "# predictions = model.predict(ds_valid[0])\n",
        "# print(\"predictions shape:\", predictions.shape)"
      ],
      "metadata": {
        "id": "wzJdBouN5qrj"
      },
      "execution_count": 21,
      "outputs": []
    },
    {
      "cell_type": "code",
      "source": [
        "type(ds_valid)"
      ],
      "metadata": {
        "colab": {
          "base_uri": "https://localhost:8080/"
        },
        "id": "ZMfBrimU6Mcb",
        "outputId": "953c7161-6c63-47a7-85c1-60140bf12d71"
      },
      "execution_count": 22,
      "outputs": [
        {
          "output_type": "execute_result",
          "data": {
            "text/plain": [
              "tensorflow.python.data.ops.dataset_ops.PrefetchDataset"
            ]
          },
          "metadata": {},
          "execution_count": 22
        }
      ]
    },
    {
      "cell_type": "code",
      "source": [
        "ds_valid[0,128,128,3]"
      ],
      "metadata": {
        "colab": {
          "base_uri": "https://localhost:8080/",
          "height": 173
        },
        "id": "oJU2goYj6VCl",
        "outputId": "987d8d1a-3969-45cc-bc0c-041530d11110"
      },
      "execution_count": 23,
      "outputs": [
        {
          "output_type": "error",
          "ename": "TypeError",
          "evalue": "ignored",
          "traceback": [
            "\u001b[0;31m---------------------------------------------------------------------------\u001b[0m",
            "\u001b[0;31mTypeError\u001b[0m                                 Traceback (most recent call last)",
            "\u001b[0;32m<ipython-input-23-94214ecdcdbd>\u001b[0m in \u001b[0;36m<module>\u001b[0;34m()\u001b[0m\n\u001b[0;32m----> 1\u001b[0;31m \u001b[0mds_valid\u001b[0m\u001b[0;34m[\u001b[0m\u001b[0;36m0\u001b[0m\u001b[0;34m,\u001b[0m\u001b[0;36m128\u001b[0m\u001b[0;34m,\u001b[0m\u001b[0;36m128\u001b[0m\u001b[0;34m,\u001b[0m\u001b[0;36m3\u001b[0m\u001b[0;34m]\u001b[0m\u001b[0;34m\u001b[0m\u001b[0;34m\u001b[0m\u001b[0m\n\u001b[0m",
            "\u001b[0;31mTypeError\u001b[0m: 'PrefetchDataset' object is not subscriptable"
          ]
        }
      ]
    },
    {
      "cell_type": "markdown",
      "source": [
        "이 모델은 첫 번째 레슨의 VGG16 모델보다 작다. 16개의 합성곱 레이어를 가진 VGG16에 비해 3개 밖에 없다. 그러나 데이터 셋을 어느 정도 잘 반영한다. 합성곱 레이어를 추가한다면 더욱 효과적일 것이다."
      ],
      "metadata": {
        "id": "6HEHL40GuMWy"
      }
    },
    {
      "cell_type": "markdown",
      "source": [
        "# 결론  \n",
        "이 튜토리얼에서는 어떻게 여러 개의 합성곱 블록으로 이루어진 합성곱 신경망을 만드는지를 살펴보았다."
      ],
      "metadata": {
        "id": "QFAvY8ZPuMWz"
      }
    }
  ]
}