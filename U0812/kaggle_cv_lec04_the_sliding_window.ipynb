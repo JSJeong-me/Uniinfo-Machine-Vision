{
  "metadata": {
    "kernelspec": {
      "language": "python",
      "display_name": "Python 3",
      "name": "python3"
    },
    "language_info": {
      "pygments_lexer": "ipython3",
      "nbconvert_exporter": "python",
      "version": "3.6.4",
      "file_extension": ".py",
      "codemirror_mode": {
        "name": "ipython",
        "version": 3
      },
      "name": "python",
      "mimetype": "text/x-python"
    },
    "colab": {
      "name": "kaggle-cv-lec04-the-sliding-window.ipynb",
      "provenance": [],
      "include_colab_link": true
    }
  },
  "nbformat_minor": 0,
  "nbformat": 4,
  "cells": [
    {
      "cell_type": "markdown",
      "metadata": {
        "id": "view-in-github",
        "colab_type": "text"
      },
      "source": [
        "<a href=\"https://colab.research.google.com/github/JSJeong-me/Uniinfo-Machine-Vision/blob/main/U0812/kaggle_cv_lec04_the_sliding_window.ipynb\" target=\"_parent\"><img src=\"https://colab.research.google.com/assets/colab-badge.svg\" alt=\"Open In Colab\"/></a>"
      ]
    },
    {
      "cell_type": "code",
      "source": [
        "\n",
        "import numpy as np\n",
        "from itertools import product\n",
        "from skimage import draw, transform\n",
        "\n",
        "def circle(size, val=None, r_shrink=0):\n",
        "    circle = np.zeros([size[0]+1, size[1]+1])\n",
        "    rr, cc = draw.circle_perimeter(\n",
        "        size[0]//2, size[1]//2,\n",
        "        radius=size[0]//2 - r_shrink,\n",
        "        shape=[size[0]+1, size[1]+1],\n",
        "    )\n",
        "    if val is None:\n",
        "        circle[rr, cc] = np.random.uniform(size=circle.shape)[rr, cc]\n",
        "    else:\n",
        "        circle[rr, cc] = val\n",
        "    circle = transform.resize(circle, size, order=0)\n",
        "    return circle\n",
        "\n",
        "def show_kernel(kernel, label=True, digits=None, text_size=28):\n",
        "    # 형식 커널\n",
        "    kernel = np.array(kernel)\n",
        "    if digits is not None:\n",
        "        kernel = kernel.round(digits)\n",
        "\n",
        "    # 도식화 커널\n",
        "    cmap = plt.get_cmap('Blues_r')\n",
        "    plt.imshow(kernel, cmap=cmap)\n",
        "    rows, cols = kernel.shape\n",
        "    thresh = (kernel.max()+kernel.min())/2\n",
        "    \n",
        "    if label:\n",
        "        for i, j in product(range(rows), range(cols)):\n",
        "            val = kernel[i, j]\n",
        "            color = cmap(0) if val > thresh else cmap(255)\n",
        "            plt.text(j, i, val, \n",
        "                     color=color, size=text_size,\n",
        "                     horizontalalignment='center', verticalalignment='center')\n",
        "    plt.xticks([])\n",
        "    plt.yticks([])\n",
        "\n",
        "def show_extraction(image,\n",
        "                    kernel,\n",
        "                    conv_stride=1,\n",
        "                    conv_padding='valid',\n",
        "                    activation='relu',\n",
        "                    pool_size=2,\n",
        "                    pool_stride=2,\n",
        "                    pool_padding='same',\n",
        "                    figsize=(10, 10),\n",
        "                    subplot_shape=(2, 2),\n",
        "                    ops=['Input', 'Filter', 'Detect', 'Condense'],\n",
        "                    gamma=1.0):\n",
        "    # 레이어 만들기\n",
        "    model = tf.keras.Sequential([\n",
        "                    tf.keras.layers.Conv2D(\n",
        "                        filters=1,\n",
        "                        kernel_size=kernel.shape,\n",
        "                        strides=conv_stride,\n",
        "                        padding=conv_padding,\n",
        "                        use_bias=False,\n",
        "                        input_shape=image.shape,\n",
        "                    ),\n",
        "                    tf.keras.layers.Activation(activation),\n",
        "                    tf.keras.layers.MaxPool2D(\n",
        "                        pool_size=pool_size,\n",
        "                        strides=pool_stride,\n",
        "                        padding=pool_padding,\n",
        "                    ),\n",
        "                   ])\n",
        "\n",
        "    layer_filter, layer_detect, layer_condense = model.layers\n",
        "    kernel = tf.reshape(kernel, [*kernel.shape, 1, 1])\n",
        "    layer_filter.set_weights([kernel])\n",
        "\n",
        "    # 텐서플로우를 위한 형식 변환\n",
        "    image = tf.expand_dims(image, axis=0)\n",
        "    image = tf.image.convert_image_dtype(image, dtype=tf.float32) \n",
        "    \n",
        "    # 특성 추출\n",
        "    image_filter = layer_filter(image)\n",
        "    image_detect = layer_detect(image_filter)\n",
        "    image_condense = layer_condense(image_detect)\n",
        "    \n",
        "    images = {}\n",
        "    if 'Input' in ops:\n",
        "        images.update({'Input': (image, 1.0)})\n",
        "    if 'Filter' in ops:\n",
        "        images.update({'Filter': (image_filter, 1.0)})\n",
        "    if 'Detect' in ops:\n",
        "        images.update({'Detect': (image_detect, gamma)})\n",
        "    if 'Condense' in ops:\n",
        "        images.update({'Condense': (image_condense, gamma)})\n",
        "    \n",
        "    # 도식화\n",
        "    plt.figure(figsize=figsize)\n",
        "    for i, title in enumerate(ops):\n",
        "        image, gamma = images[title]\n",
        "        plt.subplot(*subplot_shape, i+1)\n",
        "        plt.imshow(tf.image.adjust_gamma(tf.squeeze(image), gamma))\n",
        "        plt.axis('off')\n",
        "        plt.title(title)"
      ],
      "metadata": {
        "_uuid": "8f2839f25d086af736a60e9eeb907d3b93b6e0e5",
        "_cell_guid": "b1076dfc-b9ad-4769-8c92-a6c4dae69d19",
        "trusted": true,
        "id": "T3LkiwOhF8GX"
      },
      "execution_count": 1,
      "outputs": []
    },
    {
      "cell_type": "code",
      "source": [
        ""
      ],
      "metadata": {
        "id": "y3Xaqr3pLxC1"
      },
      "execution_count": null,
      "outputs": []
    },
    {
      "cell_type": "markdown",
      "source": [
        "# 소개  \n",
        "이전의 포스트들을 통해 이미지에서 특성을 추출하는 세 가지 작용을 살펴보았다.  \n",
        "1. 합성곱 레이어로 '필터링'하기\n",
        "2. ReLU 활성화로 '감지'하기\n",
        "3. 최대 풀링 레이어로 '압축'하기  \n",
        "\n",
        "합성곱과 풀링은 '슬라이딩 창'을 통해 이루어진다는 공통점을 가진다. 합성곱에서 이 '창'은 커널의 차원(dimension) 파라미터인 kernel_size로 주어진다. 풀링에서는 pool_size로 주어진다.  \n",
        "<figure>\n",
        "<img src=\"https://i.imgur.com/LueNK6b.gif\" width=400 alt=\"A 2D sliding window.\">\n",
        "</figure>  \n",
        "합성곱과 풀링 레이어 둘 다 영향을 미치는 두 개의 추가적인 파라미터가 있다. 이는 창의 '보폭(stride)'과 이미지의 가장자리에 '패딩(padding)'을 사용할건지의 여부이다. strides 파라미터는 한 번의 작용에 슬라이드 창이 얼마나 움직일지를 뜻하며, padding 파라미터는 입력 이미지의 가장자리 픽셀을 어떻게 처리할지를 의미한다.  \n",
        "  \n",
        "이 두 가지 파라미터로 레이어를 구성하면 아래와 같다."
      ],
      "metadata": {
        "id": "35F_SJhOF8Gb"
      }
    },
    {
      "cell_type": "code",
      "source": [
        "from tensorflow import keras\n",
        "from tensorflow.keras import layers\n",
        "\n",
        "model = keras.Sequential([\n",
        "    layers.Conv2D(\n",
        "        filters = 64,\n",
        "        kernel_size = 3,\n",
        "        strides = 1,\n",
        "        padding = 'same',\n",
        "        activation = 'relu'),\n",
        "    layers.MaxPool2D(\n",
        "        pool_size = 2,\n",
        "        strides = 1,\n",
        "        padding = 'same'\n",
        "    )\n",
        "    # 더 많은 레이어가 추가될 수 있다.\n",
        "])"
      ],
      "metadata": {
        "trusted": true,
        "id": "y4YdfMrUF8Gd"
      },
      "execution_count": 2,
      "outputs": []
    },
    {
      "cell_type": "markdown",
      "source": [
        "## 보폭(Stride)  \n",
        "각 단계별로 창이 움직이는 정도를 '보폭'이라고 한다. 우리는 이미지의 모든 차원에 대해 보폭을 정의해야 한다 : 하나는 좌에서 우로, 하나는 위에서 아래로 움직이는 차원이다. 아래 그림을 통해 보폭이 2인 strides = (2,2)의 경우를 확인할 수 있다.  \n",
        "<figure>\n",
        "<img src=\"https://i.imgur.com/Tlptsvt.gif\" width=400 alt=\"Sliding window with a stride of (2, 2).\">\n",
        "</figure>  \n",
        "보폭은 어떤 효과를 가지고 있을까? 모든 방향으로의 보폭이 1보다 큰 경우, 슬라이드 창은 입력 이미지에서의 일부 픽셀을 건너뛰게 된다.   \n",
        "우리는 분류를 위한 최적의 특징을 원하기 때문에 합성곱 레이어는 대부분 stride = (1,1)이다. 보폭을 늘이는 것은 곧 풀링 과정에서 중요할수도 있는 정보를 잃을 수 있음을 의미하기 때문이다. 그러나 최대 풀링 레이어는 거의 항상 (2,2) 또는 (3,3)처럼 1보다 큰 보폭을 가진다. 당연히 슬라이드 창 그 자체보다 큰 크기의 보폭을 가지지는 않는다.  \n",
        "  \n",
        "  마지막으로 보폭의 크기가 양쪽 방향으로 동일하다면, strides = (2,2) 대신 strides = 2라고 적는 것처럼 튜플이 아닌 숫자 하나로만 보폭을 정의할 수 있다."
      ],
      "metadata": {
        "id": "paIussAhF8Gd"
      }
    },
    {
      "cell_type": "markdown",
      "source": [
        "## 패딩  \n",
        "슬라이드 창을 적용할 때에 입력 이미지의 가장자리를 어떻게 처리할지에 대한 의문이 생긴다. 입력 이미지의 안에만 머무른다면 창이 절대 가장자리 픽셀에 대해 풀링 등의 작용을 할 수 없다. 모든 픽셀을 동일하게 처리하지 않으니 문제가 생기지 않을까?  \n",
        "  \n",
        "  합성곱이 이 '가장자리 픽셀'들에 대해 어떻게 처리하는지는 'padding' 파라미터로 정의한다. 텐서플로우에서는 두 가지 선택지가 있다 : 'padding ='same'' 또는 'padding = 'valid''. 둘은 서로 상충 관계에 놓여있다.  \n",
        "    \n",
        "  padding = 'valid'으로 설정하면, 합성곱 창은 온전히 이미지 입력값 내부에 머무른다. 단점은 가장자리 픽셀을 읽지 못하여 출력값의 크기가 줄어들고, 커널이 클수록 더 줄어든다는 것이다. 이는 특히 입력값의 크기가 작을 때 신경망에서 레이어의 개수를 제한할 것이다.  \n",
        "  반대는 padding = 'same'을 사용하는 것이다. 여기서는 입력값의 가장자리 주변을 0값의 픽셀로 '패딩'을 한다. 즉, 0값의 픽셀만 사용하여 출력값이 입력값과 크기가 동일하도록 하는 것이다. 그러나 이는 가장자리 픽셀의 영향을 희석시키는 효과가 있다. 아래 그림은 'same' 패딩을 사용한 슬라이드 창의 모습을 보인다.  \n",
        "  <figure>\n",
        "<img src=\"https://i.imgur.com/RvGM2xb.gif\" width=400 alt=\"Illustration of zero (same) padding.\">\n",
        "</figure>  \n",
        "우리가 보고 있던 VGG 모델은 모든 합성곱 레이어에 'same' 패딩을 적용한다. 대부분 현대의 합성곱 레이어는 'same'과 'valid' 패딩을 적절히 혼합하여 사용한다. (그리고 다른 파라미터로 튜닝한다)"
      ],
      "metadata": {
        "id": "92-ufEc2F8Ge"
      }
    },
    {
      "cell_type": "markdown",
      "source": [
        "# 예시 - 슬라이드 창  \n",
        "슬라이드 창 파라미터의 효과를 더 알아보기 위해선, 각 픽셀이 보이는 저해상도 이미지로 특성 추출 과정을 따라가보는 것이 도움이 된다. 간단한 원을 살펴보자.  \n",
        "  \n",
        "  아래의 셀이 이미지와 커널을 정의할 것이다."
      ],
      "metadata": {
        "id": "EZgMQMDRF8Ge"
      }
    },
    {
      "cell_type": "code",
      "source": [
        "import tensorflow as tf\n",
        "import matplotlib.pyplot as plt\n",
        "\n",
        "plt.rc('figure', autolayout=True)\n",
        "plt.rc('axes', labelweight='bold', labelsize='large',\n",
        "      titleweight='bold', titlesize=18, titlepad=10)\n",
        "plt.rc('image', cmap='magma')\n",
        "\n",
        "image = circle([64,64], val=1.0, r_shrink=3)\n",
        "image = tf.reshape(image, [*image.shape, 1])\n",
        "\n",
        "kernel = tf.constant([\n",
        "    [-1,-2,-1],\n",
        "    [0,0,0],\n",
        "    [1,2,1]\n",
        "])\n",
        "show_kernel(kernel)"
      ],
      "metadata": {
        "trusted": true,
        "colab": {
          "base_uri": "https://localhost:8080/",
          "height": 297
        },
        "id": "nBxOBcZIF8Ge",
        "outputId": "7e258718-e96d-4e5f-8751-db5d389d89b3"
      },
      "execution_count": 3,
      "outputs": [
        {
          "output_type": "display_data",
          "data": {
            "text/plain": [
              "<Figure size 432x288 with 1 Axes>"
            ],
            "image/png": "[encoded data removed]"
          },
          "metadata": {}
        }
      ]
    },
    {
      "cell_type": "markdown",
      "source": [
        "VGG 구조는 꽤나 간단하다. 합성곱의 보폭이 1, 창 크기가 2X2이고 보폭이 2인 최대 풀링을 사용한다. visiontools의 함수를 사용하여 각 단계를 시각화할 것이다."
      ],
      "metadata": {
        "id": "XLZBFrj2F8Gf"
      }
    },
    {
      "cell_type": "code",
      "source": [
        "show_extraction(\n",
        "    image, kernel,\n",
        "    \n",
        "    # 창 파라미터\n",
        "    conv_stride = 1,\n",
        "    pool_size = 2,\n",
        "    pool_stride = 2,\n",
        "    \n",
        "    subplot_shape = (1,4),\n",
        "    figsize = (14,6),\n",
        ")"
      ],
      "metadata": {
        "trusted": true,
        "colab": {
          "base_uri": "https://localhost:8080/",
          "height": 292
        },
        "id": "F_OB1pctF8Gf",
        "outputId": "cc6b80e4-293b-4c03-c81d-45b115d1efdf"
      },
      "execution_count": 4,
      "outputs": [
        {
          "output_type": "display_data",
          "data": {
            "text/plain": [
              "<Figure size 1008x432 with 4 Axes>"
            ],
            "image/png": "[encoded data removed]"
          },
          "metadata": {
            "needs_background": "light"
          }
        }
      ]
    },
    {
      "cell_type": "markdown",
      "source": [
        "위 코드는 잘 작동한다! 해당 커널은 수평선을 감지하도록 설계되었고, 출력되는 특징 맵에서 입력값의 수평 요소가 '가장 많은' 활성화를 불러일으킨다는 것을 확인할 수 있다.  \n",
        "  \n",
        "  합성곱의 보폭을 3으로 바꾸면 어떻게 될까?"
      ],
      "metadata": {
        "id": "YKbg64zpF8Gf"
      }
    },
    {
      "cell_type": "code",
      "source": [
        "show_extraction(\n",
        "    image, kernel,\n",
        "    \n",
        "    # 창 파라미터\n",
        "    conv_stride = 3,\n",
        "    pool_size = 2,\n",
        "    pool_stride = 2,\n",
        "    \n",
        "    subplot_shape = (1,4),\n",
        "    figsize = (14,6)\n",
        ")"
      ],
      "metadata": {
        "trusted": true,
        "colab": {
          "base_uri": "https://localhost:8080/",
          "height": 292
        },
        "id": "pm4AIiKJF8Gg",
        "outputId": "33723e14-2417-4196-9943-bf14a2934c7f"
      },
      "execution_count": 5,
      "outputs": [
        {
          "output_type": "display_data",
          "data": {
            "text/plain": [
              "<Figure size 1008x432 with 4 Axes>"
            ],
            "image/png": "[encoded data removed]"
          },
          "metadata": {
            "needs_background": "light"
          }
        }
      ]
    },
    {
      "cell_type": "markdown",
      "source": [
        "이는 추출되는 특성의 질을 낮추는 것으로 보인다. 입력되는 원은 1 픽셀 정도의 두께이므로 꽤나 '디테일하다'고 할 수 있다. 그러니 보폭 3의 합성곱은 좋은 특성 맵을 추출하기엔 부족하였을 것이다.  \n",
        "  \n",
        "  가끔, 모델은 입력 레이어에서 큰 보폭으로 합성곱을 적용하기도 한다. 대부분 이런 경우엔 커널의 크기도 크다. 예를 들어 ResNet50 모델은 첫 번째 레이어에서 보폭 2의 7X7 크기의 커널을 사용한다. 이는 큰 규모의 특징을 너무 많은 입력값 정보를 잃지 않으면서도 빠르게 추출할 수 있도록 한다."
      ],
      "metadata": {
        "id": "yY5Cr4XvF8Gg"
      }
    },
    {
      "cell_type": "markdown",
      "source": [
        "# 결론  \n",
        "여기선 합성곱과 풀링 모두에서 공통적으로 사용되는 계산 기법인 '슬라이드 창'과 그에 영향을 미치는 파라미터를 살펴보았다. 이런 방식의 계산은 합성곱 신경망의 가장 큰 특징 중 하나이다."
      ],
      "metadata": {
        "id": "tlzScNYAF8Gg"
      }
    },
    {
      "cell_type": "code",
      "source": [
        ""
      ],
      "metadata": {
        "trusted": true,
        "id": "uhXgt_7wF8Gg"
      },
      "execution_count": 5,
      "outputs": []
    }
  ]
}