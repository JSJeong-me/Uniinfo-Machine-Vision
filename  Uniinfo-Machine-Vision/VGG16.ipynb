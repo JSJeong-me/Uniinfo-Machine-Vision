{
  "nbformat": 4,
  "nbformat_minor": 0,
  "metadata": {
    "colab": {
      "name": "Untitled2.ipynb",
      "provenance": [],
      "authorship_tag": "ABX9TyOzhBnjD/o4yOv3oJ6eSnFy",
      "include_colab_link": true
    },
    "kernelspec": {
      "name": "python3",
      "display_name": "Python 3"
    },
    "language_info": {
      "name": "python"
    }
  },
  "cells": [
    {
      "cell_type": "markdown",
      "metadata": {
        "id": "view-in-github",
        "colab_type": "text"
      },
      "source": [
        "<a href=\"https://colab.research.google.com/github/JSJeong-me/Uniinfo-Machine-Vision/blob/main/%20Uniinfo-Machine-Vision/VGG16.ipynb\" target=\"_parent\"><img src=\"https://colab.research.google.com/assets/colab-badge.svg\" alt=\"Open In Colab\"/></a>"
      ]
    },
    {
      "cell_type": "markdown",
      "source": [
        "### https://towardsdatascience.com/how-to-use-a-pre-trained-model-vgg-for-image-classification-8dd7c4a4a517"
      ],
      "metadata": {
        "id": "N-jQPzNbUJe7"
      }
    },
    {
      "cell_type": "markdown",
      "source": [
        "https://keras.io/api/applications/vgg/\n"
      ],
      "metadata": {
        "id": "QeDjuyVDXhCg"
      }
    },
    {
      "cell_type": "code",
      "execution_count": null,
      "metadata": {
        "id": "-D4NJ6VKTNFU"
      },
      "outputs": [],
      "source": [
        "from keras.applications.vgg16 import VGG16\n",
        "model = VGG16(weights='imagenet')\n",
        "print(model.summary())"
      ]
    },
    {
      "cell_type": "code",
      "source": [
        "from tensorflow.keras.preprocessing import image\n",
        "from tensorflow.keras.applications.vgg16 import preprocess_input,decode_predictions\n",
        "import numpy as np\n",
        "\n",
        "img_path = 'elephant2.png'\n",
        "#There is an interpolation method to match the source size with the target size\n",
        "#image loaded in PIL (Python Imaging Library)\n",
        "img = image.load_img(img_path,color_mode='rgb', target_size=(224, 224))\n",
        "display(img)"
      ],
      "metadata": {
        "id": "HC-RvNRJTYa3"
      },
      "execution_count": null,
      "outputs": []
    },
    {
      "cell_type": "code",
      "source": [
        "# Converts a PIL Image to 3D Numy Array\n",
        "x = image.img_to_array(img)\n",
        "x.shape\n",
        "# Adding the fouth dimension, for number of images\n",
        "x = np.expand_dims(x, axis=0)"
      ],
      "metadata": {
        "id": "48d0jzglTn2h"
      },
      "execution_count": null,
      "outputs": []
    },
    {
      "cell_type": "code",
      "source": [
        "#mean centering with respect to Image\n",
        "x = preprocess_input(x)\n",
        "features = model.predict(x)\n",
        "p = decode_predictions(features)"
      ],
      "metadata": {
        "id": "rDsNHvPvTuO5"
      },
      "execution_count": null,
      "outputs": []
    },
    {
      "cell_type": "code",
      "source": [
        "p"
      ],
      "metadata": {
        "id": "Ph385nh7T7c4"
      },
      "execution_count": null,
      "outputs": []
    },
    {
      "cell_type": "code",
      "source": [
        ""
      ],
      "metadata": {
        "id": "Qb2TkVGrT88W"
      },
      "execution_count": null,
      "outputs": []
    }
  ]
}