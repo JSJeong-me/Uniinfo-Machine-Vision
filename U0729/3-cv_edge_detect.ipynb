{
 "cells": [
  {
   "cell_type": "markdown",
   "id": "f8da9640",
   "metadata": {},
   "source": [
    "### OpenCV - Edge detection for video\n",
    "\n",
    "### By Joo Soo Jeong / Ph.D\n",
    "\n",
    "### https://github.com/JSJeong-me/KOSA-Vision\n",
    "\n",
    "### email: heinem@naver.com\n",
    "\n",
    "###  Copyrights 2021"
   ]
  },
  {
   "cell_type": "code",
   "execution_count": null,
   "id": "125f9c1d",
   "metadata": {},
   "outputs": [],
   "source": [
    "### Color space exercise\n",
    "### 1. RGB LAB Color-Space YCrCb Color-Space\n",
    "### 2. Canny Laplacian Sobel\n",
    "### 3. Webcam"
   ]
  },
  {
   "cell_type": "code",
   "execution_count": null,
   "id": "15898a41",
   "metadata": {},
   "outputs": [],
   "source": []
  },
  {
   "cell_type": "code",
   "execution_count": 1,
   "id": "f220572b",
   "metadata": {},
   "outputs": [],
   "source": [
    "import cv2\n",
    "import numpy as np\n",
    "\n",
    "bright = cv2.imread('banana1.jpg')\n",
    "dark = cv2.imread('banana2.jpg')"
   ]
  },
  {
   "cell_type": "code",
   "execution_count": null,
   "id": "3a743311",
   "metadata": {},
   "outputs": [],
   "source": [
    "# The LAB Color-Space\n",
    "# L – Lightness ( Intensity ).\n",
    "# a – color component ranging from Green to Magenta.\n",
    "# b – color component ranging from Blue to Yellow.\n",
    "\n",
    "brightLAB = cv2.cvtColor(bright, cv2.COLOR_BGR2LAB)\n",
    "darkLAB = cv2.cvtColor(dark, cv2.COLOR_BGR2LAB)\n",
    "\n",
    "# The YCrCb Color-Space\n",
    "# Y – Luminance or Luma component obtained from RGB after gamma correction.\n",
    "# Cr = R – Y ( how far is the red component from Luma ).\n",
    "# Cb = B – Y ( how far is the blue component from Luma ).\n",
    "\n",
    "brightYCB = cv2.cvtColor(bright, cv2.COLOR_BGR2YCrCb)\n",
    "darkYCB = cv2.cvtColor(dark, cv2.COLOR_BGR2YCrCb)\n",
    "\n",
    "# The HSV Color Space\n",
    "# H – Hue ( Dominant Wavelength ).\n",
    "# S – Saturation ( Purity / shades of the color ).\n",
    "# V – Value ( Intensity ).\n",
    "\n",
    "brightHSV = cv2.cvtColor(bright, cv2.COLOR_BGR2HSV)\n",
    "darkHSV = cv2.cvtColor(dark, cv2.COLOR_BGR2HSV)\n",
    "\n",
    "cv2.imshow('Banana Image 1', brightLAB)\n",
    "cv2.imshow('Banana Image 2', darkLAB)\n",
    "\n",
    "cv2.imshow('Banana Image 3', brightYCB)\n",
    "cv2.imshow('Banana Image 4', darkYCB)\n",
    "\n",
    "cv2.imshow('Banana Image 5', brightHSV)\n",
    "cv2.imshow('Banana Image 6', darkHSV)\n",
    "\n",
    "\n",
    "cv2.waitKey(0)\n",
    "cv2.destroyAllWindows()"
   ]
  },
  {
   "cell_type": "code",
   "execution_count": null,
   "id": "3499fb48",
   "metadata": {},
   "outputs": [],
   "source": []
  },
  {
   "cell_type": "code",
   "execution_count": null,
   "id": "efb83a7b",
   "metadata": {},
   "outputs": [],
   "source": [
    "# Canny"
   ]
  },
  {
   "cell_type": "code",
   "execution_count": null,
   "id": "050b625a",
   "metadata": {},
   "outputs": [],
   "source": [
    "!cd"
   ]
  },
  {
   "cell_type": "code",
   "execution_count": 1,
   "id": "06eb7aaf",
   "metadata": {},
   "outputs": [
    {
     "name": "stdout",
     "output_type": "stream",
     "text": [
      "Frame width: 1920\n",
      "Frame height: 1080\n"
     ]
    }
   ],
   "source": [
    "import sys\n",
    "import cv2\n",
    "\n",
    "\n",
    "# 카메라로부터 cv2.VideoCapture 객체 생성\n",
    "# cap = cv2.VideoCapture(0)\n",
    "cap = cv2.VideoCapture('park_people.mp4')\n",
    "\n",
    "if not cap.isOpened():\n",
    "    print(\"Camera open failed!\")\n",
    "    sys.exit()\n",
    "\n",
    "# 프레임 해상도 출력\n",
    "print('Frame width:', round(cap.get(cv2.CAP_PROP_FRAME_WIDTH)))\n",
    "print('Frame height:', round(cap.get(cv2.CAP_PROP_FRAME_HEIGHT)))"
   ]
  },
  {
   "cell_type": "markdown",
   "id": "cd8a65b7",
   "metadata": {},
   "source": [
    "### https://docs.opencv.org/3.4/da/d5c/tutorial_canny_detector.html"
   ]
  },
  {
   "cell_type": "markdown",
   "id": "04cea9dc",
   "metadata": {},
   "source": [
    "Canny 알고리즘은 신호 처리 문제로 설계된 최신 에지 검출기입니다. OpenCV에서는 감지 된 가장자리를 표시하는 이진 이미지를 출력합니다.\n",
    "\n",
    "첫번째 아규먼트 image는 입력 이미지입니다.\n",
    "\n",
    "두번째, 세번째 아규먼트 threshold1, threshold2는 최소 스레숄드와 최대 스레숄드입니다. \n",
    "\n",
    "네번째 아규먼트 edges에 Canny 결과를 저장할 변수를 적어줍니다.  파이썬에선 Canny 함수 리턴으로 받을 수 있기 때문에 필요없는 항목입니다. \n",
    "\n",
    "다섯번째 아규먼트 apertureSize는 이미지 그레디언트를 구할때 사용하는 소벨 커널 크기입니다. 디폴트는 3입니다. \n",
    "\n",
    "여섯번째 아규먼트 L2gradient가 True이면 그레디언트 크기를 계산할 때 sqrt{(dI/dx)^2 + (dI/dy)^2}를 사용합니다.\n",
    "\n",
    " False라면 근사값인 |dI/dx|+|dI/dy|를 사용합니다.  디폴트값은 False입니다. "
   ]
  },
  {
   "cell_type": "code",
   "execution_count": 2,
   "id": "ceb077a3",
   "metadata": {},
   "outputs": [],
   "source": [
    "# 매 프레임 처리 및 화면 출력\n",
    "while True:\n",
    "    ret, frame = cap.read()\n",
    "\n",
    "    if not ret:\n",
    "        break\n",
    "    frame = cv2.resize(frame, (0, 0), fx=0.5, fy=0.5)\n",
    "#    blur = cv2.medianBlur(frame, 7)\n",
    "    edge = cv2.Canny(frame, 220, 150)\n",
    "\n",
    "    cv2.imshow('frame', frame)\n",
    "    cv2.imshow('edge', edge)\n",
    "\n",
    "    if cv2.waitKey(10) == 27:\n",
    "        break\n",
    "\n",
    "cap.release()\n",
    "cv2.destroyAllWindows()"
   ]
  },
  {
   "cell_type": "code",
   "execution_count": null,
   "id": "8fb0eb33",
   "metadata": {},
   "outputs": [],
   "source": []
  },
  {
   "cell_type": "code",
   "execution_count": 2,
   "id": "1594fbf4",
   "metadata": {},
   "outputs": [],
   "source": [
    "# Laplacian\n",
    "#lap = cv2.Laplacian(frame, cv2.CV_64F)\n",
    "#lap = np.unit8(np.absolute(lap))"
   ]
  },
  {
   "cell_type": "code",
   "execution_count": 2,
   "id": "7180ab45",
   "metadata": {},
   "outputs": [],
   "source": [
    "import numpy as np\n",
    "\n",
    "while True:\n",
    "    ret, frame = cap.read()\n",
    "    if not ret:\n",
    "        break    \n",
    "    \n",
    "    frame = cv2.resize(frame, (0, 0), fx=0.5, fy=0.5)\n",
    "\n",
    "    blur = cv2.medianBlur(frame, 7)\n",
    "    edge = cv2.Canny(blur, 50, 200)\n",
    "    lap = cv2.Laplacian(edge, cv2.CV_64F)\n",
    "    lap = np.uint8(np.absolute(lap))\n",
    "\n",
    "    cv2.imshow('frame', frame)\n",
    "    cv2.imshow('edge', edge)\n",
    "    cv2.imshow('Laplacian', lap)\n",
    "\n",
    "    if cv2.waitKey(10) == 27:\n",
    "        break\n",
    "\n",
    "cap.release()\n",
    "cv2.destroyAllWindows()"
   ]
  },
  {
   "cell_type": "code",
   "execution_count": 4,
   "id": "5499f62b",
   "metadata": {},
   "outputs": [],
   "source": [
    "# Sobel\n",
    "# sobelx = cv2.sobel(frame, cv2.CV_64F, 1, 0)\n",
    "# sobely = cv2.sobel(frame, cv2.CV_64F, 0, 1)\n",
    "# combined_sobel = cv.bitwise_or(sobelx, sobley)"
   ]
  },
  {
   "cell_type": "code",
   "execution_count": 2,
   "id": "8c302dd5",
   "metadata": {},
   "outputs": [],
   "source": [
    "import numpy as np\n",
    "\n",
    "while True:\n",
    "    ret, frame = cap.read()\n",
    "    if not ret:\n",
    "        break    \n",
    "    \n",
    "    frame = cv2.resize(frame, (0, 0), fx=0.5, fy=0.5)\n",
    "\n",
    "#    blur = cv2.medianBlur(frame, 7)\n",
    "    sobelx = cv2.Sobel(frame, cv2.CV_64F, 1, 0)\n",
    "    edge = cv2.Canny(frame, 50, 200)\n",
    "#    lap = cv2.Laplacian(edge, cv2.CV_64F)\n",
    "#    lap = np.uint8(np.absolute(lap))\n",
    "\n",
    "    cv2.imshow('frame', frame)\n",
    "    cv2.imshow('edge', edge)\n",
    "#    cv2.imshow('Laplacian', lap)\n",
    "\n",
    "    if cv2.waitKey(10) == 27:\n",
    "        break\n",
    "\n",
    "cap.release()\n",
    "cv2.destroyAllWindows()"
   ]
  },
  {
   "cell_type": "code",
   "execution_count": null,
   "id": "182bb469",
   "metadata": {},
   "outputs": [],
   "source": []
  },
  {
   "cell_type": "markdown",
   "id": "699a1638",
   "metadata": {},
   "source": [
    "# Video(webcam) input"
   ]
  },
  {
   "cell_type": "code",
   "execution_count": null,
   "id": "322c6feb",
   "metadata": {},
   "outputs": [],
   "source": [
    "import cv2\n",
    "import numpy as np\n",
    "\n",
    "cap = cv2.VideoCapture(0)\n",
    "\n",
    "while True:\n",
    "    _, frame = cap.read()\n",
    "    hsv_frame = cv2.cvtColor(frame, cv2.COLOR_BGR2HSV)\n",
    "\n",
    "    # Red color\n",
    "    low_red = np.array([161, 155, 84])\n",
    "    high_red = np.array([179, 255, 255])\n",
    "    red_mask = cv2.inRange(hsv_frame, low_red, high_red)\n",
    "    red = cv2.bitwise_and(frame, frame, mask=red_mask)\n",
    "\n",
    "    # Blue color\n",
    "    low_blue = np.array([94, 80, 2])\n",
    "    high_blue = np.array([126, 255, 255])\n",
    "    blue_mask = cv2.inRange(hsv_frame, low_blue, high_blue)\n",
    "    blue = cv2.bitwise_and(frame, frame, mask=blue_mask)\n",
    "\n",
    "    # Green color\n",
    "    low_green = np.array([25, 52, 72])\n",
    "    high_green = np.array([102, 255, 255])\n",
    "    green_mask = cv2.inRange(hsv_frame, low_green, high_green)\n",
    "    green = cv2.bitwise_and(frame, frame, mask=green_mask)\n",
    "\n",
    "    # Every color except white\n",
    "    low = np.array([0, 42, 0])\n",
    "    high = np.array([179, 255, 255])\n",
    "    mask = cv2.inRange(hsv_frame, low, high)\n",
    "    result = cv2.bitwise_and(frame, frame, mask=mask)\n",
    "\n",
    "    cv2.imshow(\"Frame\", frame)\n",
    "    cv2.imshow(\"Red\", red)\n",
    "    cv2.imshow(\"Blue\", blue)\n",
    "    cv2.imshow(\"Green\", green)\n",
    "    cv2.imshow(\"Result\", result)\n",
    "\n",
    "    key = cv2.waitKey(1)\n",
    "    if key == 27:\n",
    "        break\n",
    "\n",
    "cap.release()\n",
    "cv2.destroyAllWindows()"
   ]
  },
  {
   "cell_type": "code",
   "execution_count": null,
   "id": "7337495f",
   "metadata": {},
   "outputs": [],
   "source": []
  },
  {
   "cell_type": "code",
   "execution_count": null,
   "id": "f49366e9",
   "metadata": {},
   "outputs": [],
   "source": []
  }
 ],
 "metadata": {
  "kernelspec": {
   "display_name": "Python 3 (ipykernel)",
   "language": "python",
   "name": "python3"
  },
  "language_info": {
   "codemirror_mode": {
    "name": "ipython",
    "version": 3
   },
   "file_extension": ".py",
   "mimetype": "text/x-python",
   "name": "python",
   "nbconvert_exporter": "python",
   "pygments_lexer": "ipython3",
   "version": "3.9.7"
  }
 },
 "nbformat": 4,
 "nbformat_minor": 5
}
