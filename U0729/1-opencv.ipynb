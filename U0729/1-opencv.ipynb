{
 "cells": [
  {
   "cell_type": "code",
   "execution_count": null,
   "id": "29eaf0fa-7f70-4533-99aa-c9390713b970",
   "metadata": {},
   "outputs": [],
   "source": [
    "import numpy as np\n",
    "import cv2\n",
    "\n",
    "blue, green, red = (255, 0, 0), (0, 255, 0), (0, 0, 255)\n",
    "image = np.zeros((400, 600, 3), np.uint8)\n",
    "image[:] = (255, 255, 255)\n",
    "pt1, pt2 = (50, 50), (250, 350)\n",
    "pt3, pt4 = (400, 150), (500, 50)\n",
    "roi = (50, 200, 200, 100)\n",
    "## 직선 그리기\n",
    "cv2.line(image, pt1, pt2, red)\n",
    "# cv2.line(image, pt3, pt4, green, 3, cv2.LINE_AA)\n",
    "# ## 사각형 그리기\n",
    "# cv2.rectangle(image, pt1, pt2, blue, 3, cv2.LINE_4)\n",
    "# cv2.rectangle(image, roi, red, 3, cv2.LINE_8)\n",
    "# cv2.rectangle(image, (400, 200, 100, 100), green, cv2.FILLED)\n",
    "\n",
    "cv2.imshow('Line & Rectangle', image)\n",
    "cv2.waitKey(0)\n",
    "cv2.destroyAllWindows()"
   ]
  },
  {
   "cell_type": "markdown",
   "id": "2ac3d1d7-39b1-4474-aac1-4428c0c31c8a",
   "metadata": {},
   "source": [
    "글씨 쓰기"
   ]
  },
  {
   "cell_type": "code",
   "execution_count": 2,
   "id": "064fd391-de64-46c5-8bab-4d3848b9aa7b",
   "metadata": {},
   "outputs": [],
   "source": [
    "import numpy as np\n",
    "import cv2\n",
    "\n",
    "orange, blue, cyan = (0, 165, 255), (255, 0, 0), (255, 255, 0)\n",
    "white, black = (255, 255, 255), (0, 0, 0)\n",
    "\n",
    "image = np.full((300, 500, 3), white, np.uint8)\n",
    "center = (image.shape[1]//2, image.shape[0]//2)\n",
    "pt1, pt2 = (300, 50), (100, 220)\n",
    "shade = (pt2[0] + 2, pt2[1])\n",
    "\n",
    "cv2.circle(image, center, 100, blue)\n",
    "cv2.circle(image, pt1, 50, orange, 2)\n",
    "cv2.circle(image, pt2, 70, cyan, -1)\n",
    "\n",
    "font = cv2.FONT_HERSHEY_COMPLEX;\n",
    "cv2.putText(image, 'center_blue', center, font, 1.0, blue)\n",
    "# cv2.putText(image, 'pt1_orange', pt1, font, 0.8, orange)\n",
    "# cv2.putText(image, 'pt2_cyan', shade, font, 1.2, black, 2)\n",
    "# cv2.putText(image, 'pt2_cyan', pt2, font, 1.2, cyan, 1)\n",
    "\n",
    "cv2.imshow('Draw circles', image)\n",
    "cv2.waitKey(0)\n",
    "cv2.destroyAllWindows()"
   ]
  },
  {
   "cell_type": "markdown",
   "id": "16b343ff-16e1-4ef3-a402-8b117ee2103b",
   "metadata": {},
   "source": []
  },
  {
   "cell_type": "markdown",
   "id": "e5524655-5429-4b2b-a505-02c6c6c3c110",
   "metadata": {},
   "source": [
    "Histogram - #10 p26"
   ]
  },
  {
   "cell_type": "code",
   "execution_count": 1,
   "id": "48dc8c97-3ffa-4470-845e-0c8ebf2c3617",
   "metadata": {},
   "outputs": [],
   "source": [
    "import numpy as np\n",
    "import cv2"
   ]
  },
  {
   "cell_type": "code",
   "execution_count": 2,
   "id": "9c657129-2a51-4c06-b208-a825b387cbf8",
   "metadata": {},
   "outputs": [],
   "source": [
    "def draw_histo(hist, shape=(200, 256)):\n",
    "    hist_img = np.full(shape, 255, np.uint8)\n",
    "    cv2.normalize(hist, hist, 0, shape[0], cv2.NORM_MINMAX)\n",
    "    gap = hist_img.shape[1]/hist.shape[0]\n",
    "    for i, h in enumerate(hist):\n",
    "        x = int(round(i * gap))\n",
    "        w = int(round(gap))\n",
    "        cv2.rectangle(hist_img, (x, 0, w, int(h)), 0, cv2.FILLED)\n",
    "    return cv2.flip(hist_img, 0)"
   ]
  },
  {
   "cell_type": "code",
   "execution_count": 3,
   "id": "0bc1d2ba-4583-4279-be42-b4ccb929a992",
   "metadata": {},
   "outputs": [],
   "source": [
    "image = cv2.imread('coins.png', cv2.IMREAD_GRAYSCALE)\n",
    "if image is None: raise Exception('영상파일 읽기 오류')\n",
    "\n",
    "hist = cv2.calcHist([image], [0], None, [32], [0, 256])\n",
    "hist_img = draw_histo(hist)\n",
    "\n",
    "cv2.imshow('image', image)\n",
    "cv2.imshow('hist_img', hist_img)\n",
    "cv2.waitKey(0)\n",
    "cv2.destroyAllWindows()"
   ]
  },
  {
   "cell_type": "markdown",
   "id": "f85538cd-6ca9-498b-ba3a-be76728421e4",
   "metadata": {},
   "source": []
  },
  {
   "cell_type": "markdown",
   "id": "e4291424-3fb6-406f-9386-4dc89e0283c7",
   "metadata": {},
   "source": [
    "Edge detection - #11"
   ]
  },
  {
   "cell_type": "markdown",
   "id": "fa58928b-d03f-46bd-bb08-a6db134b29ac",
   "metadata": {},
   "source": []
  }
 ],
 "metadata": {
  "kernelspec": {
   "display_name": "Python 3 (ipykernel)",
   "language": "python",
   "name": "python3"
  },
  "language_info": {
   "codemirror_mode": {
    "name": "ipython",
    "version": 3
   },
   "file_extension": ".py",
   "mimetype": "text/x-python",
   "name": "python",
   "nbconvert_exporter": "python",
   "pygments_lexer": "ipython3",
   "version": "3.9.7"
  }
 },
 "nbformat": 4,
 "nbformat_minor": 5
}
