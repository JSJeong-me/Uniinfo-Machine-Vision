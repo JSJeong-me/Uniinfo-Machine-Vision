{
 "cells": [
  {
   "cell_type": "code",
   "execution_count": null,
   "metadata": {},
   "outputs": [],
   "source": []
  },
  {
   "cell_type": "code",
   "execution_count": null,
   "metadata": {},
   "outputs": [
    {
     "name": "stdout",
     "output_type": "stream",
     "text": [
      "threshold: 152.0\n",
      "threshold: 131.0\n",
      "threshold: 103.0\n"
     ]
    }
   ],
   "source": [
    "import sys\n",
    "import cv2\n",
    "\n",
    "\n",
    "#filenames = ['namecard1.jpg', 'namecard2.jpg', 'namecard3.jpg']\n",
    "filenames = ['crack1.jpg', '2_11_11.png', '1-00017.jpg']\n",
    "\n",
    "for filename in filenames:\n",
    "    src = cv2.imread(filename, cv2.IMREAD_COLOR)\n",
    "\n",
    "    if src is None:\n",
    "        print('Image load failed!')\n",
    "        sys.exit()\n",
    "\n",
    "    src = cv2.resize(src, (0, 0), fx=0.5, fy=0.5)\n",
    "    src_gray = cv2.cvtColor(src, cv2.COLOR_BGR2GRAY)\n",
    "\n",
    "    th, dst = cv2.threshold(src_gray, 0, 255, cv2.THRESH_BINARY | cv2.THRESH_OTSU)\n",
    "    print('threshold:', th)\n",
    "\n",
    "    cv2.imshow('src', src)\n",
    "    cv2.imshow('src_gray', src_gray)\n",
    "    cv2.imshow('dst', dst)\n",
    "    cv2.waitKey()\n",
    "\n",
    "cv2.destroyAllWindows()"
   ]
  },
  {
   "cell_type": "code",
   "execution_count": null,
   "metadata": {},
   "outputs": [],
   "source": []
  }
 ],
 "metadata": {
  "kernelspec": {
   "display_name": "Python 3",
   "language": "python",
   "name": "python3"
  },
  "language_info": {
   "codemirror_mode": {
    "name": "ipython",
    "version": 3
   },
   "file_extension": ".py",
   "mimetype": "text/x-python",
   "name": "python",
   "nbconvert_exporter": "python",
   "pygments_lexer": "ipython3",
   "version": "3.7.6"
  }
 },
 "nbformat": 4,
 "nbformat_minor": 4
}
