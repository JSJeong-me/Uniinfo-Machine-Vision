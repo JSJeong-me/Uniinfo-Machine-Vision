{
 "cells": [
  {
   "cell_type": "code",
   "execution_count": null,
   "id": "592a4f34",
   "metadata": {},
   "outputs": [],
   "source": []
  },
  {
   "cell_type": "code",
   "execution_count": 1,
   "id": "f76023d5",
   "metadata": {},
   "outputs": [
    {
     "name": "stdout",
     "output_type": "stream",
     "text": [
      "Frame width: 640\n",
      "Frame height: 480\n"
     ]
    }
   ],
   "source": [
    "import sys\n",
    "import cv2\n",
    "\n",
    "\n",
    "# 카메라로부터 cv2.VideoCapture 객체 생성\n",
    "cap = cv2.VideoCapture(0)\n",
    "#cap = cv2.VideoCapture('.\\\\images\\\\park_bicycle.mp4')\n",
    "\n",
    "if not cap.isOpened():\n",
    "    print(\"Camera open failed!\")\n",
    "    sys.exit()\n",
    "\n",
    "# 프레임 해상도 출력\n",
    "print('Frame width:', round(cap.get(cv2.CAP_PROP_FRAME_WIDTH)))\n",
    "print('Frame height:', round(cap.get(cv2.CAP_PROP_FRAME_HEIGHT)))"
   ]
  },
  {
   "cell_type": "code",
   "execution_count": 2,
   "id": "c576012e",
   "metadata": {},
   "outputs": [],
   "source": [
    "# Sobel\n",
    "\n",
    "import numpy as np\n",
    "\n",
    "while True:\n",
    "    ret, frame = cap.read()\n",
    "    if not ret:\n",
    "        break    \n",
    "    \n",
    "    frame = cv2.resize(frame, (0, 0), fx=0.7, fy=0.7)\n",
    "\n",
    "#    blur = cv2.medianBlur(frame, 7)\n",
    "    sobelx = cv2.Sobel(frame, cv2.CV_64F, 1, 0)\n",
    "\n",
    "#    sobelx = cv2.Sobel(frame, cv2.CV_64F, 1, 0)\n",
    "#    sobely = cv2.Sobel(frame, cv2.CV_64F, 0, 1)\n",
    "#    combined_sobel = cv2.bitwise_or(sobelx, sobely)\n",
    "\n",
    "    edge = cv2.Canny(frame, 50, 200)\n",
    "#    lap = cv2.Laplacian(edge, cv2.CV_64F)\n",
    "#    lap = np.uint8(np.absolute(lap))\n",
    "\n",
    "    cv2.imshow('frame', frame)\n",
    "    cv2.imshow('edge', edge)\n",
    "#    cv2.imshow('Laplacian', lap)\n",
    "\n",
    "    if cv2.waitKey(10) == 27:\n",
    "        break\n",
    "\n",
    "cap.release()\n",
    "cv2.destroyAllWindows()"
   ]
  },
  {
   "cell_type": "code",
   "execution_count": null,
   "id": "6251e499",
   "metadata": {},
   "outputs": [],
   "source": []
  }
 ],
 "metadata": {
  "kernelspec": {
   "display_name": "Python 3 (ipykernel)",
   "language": "python",
   "name": "python3"
  },
  "language_info": {
   "codemirror_mode": {
    "name": "ipython",
    "version": 3
   },
   "file_extension": ".py",
   "mimetype": "text/x-python",
   "name": "python",
   "nbconvert_exporter": "python",
   "pygments_lexer": "ipython3",
   "version": "3.9.7"
  }
 },
 "nbformat": 4,
 "nbformat_minor": 5
}
