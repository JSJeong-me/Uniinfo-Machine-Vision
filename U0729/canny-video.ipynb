{
 "cells": [
  {
   "cell_type": "markdown",
   "id": "ed2b8cef",
   "metadata": {},
   "source": [
    "https://docs.opencv.org/3.4/da/d5c/tutorial_canny_detector.html"
   ]
  },
  {
   "cell_type": "code",
   "execution_count": 2,
   "id": "2d6fecb5",
   "metadata": {},
   "outputs": [
    {
     "name": "stdout",
     "output_type": "stream",
     "text": [
      "Frame width: 1920\n",
      "Frame height: 1080\n"
     ]
    }
   ],
   "source": [
    "import sys\n",
    "import cv2\n",
    "\n",
    "\n",
    "# 카메라로부터 cv2.VideoCapture 객체 생성\n",
    "# cap = cv2.VideoCapture(0)\n",
    "cap = cv2.VideoCapture('.\\\\park_people.mp4')\n",
    "\n",
    "if not cap.isOpened():\n",
    "    print(\"Camera open failed!\")\n",
    "    sys.exit()\n",
    "\n",
    "# 프레임 해상도 출력\n",
    "print('Frame width:', round(cap.get(cv2.CAP_PROP_FRAME_WIDTH)))\n",
    "print('Frame height:', round(cap.get(cv2.CAP_PROP_FRAME_HEIGHT)))"
   ]
  },
  {
   "cell_type": "code",
   "execution_count": 3,
   "id": "69efaa14",
   "metadata": {},
   "outputs": [],
   "source": [
    "# 매 프레임 처리 및 화면 출력\n",
    "while True:\n",
    "    ret, frame = cap.read()\n",
    "\n",
    "    if not ret:\n",
    "        break\n",
    "    frame = cv2.resize(frame, (0, 0), fx=0.7, fy=0.7)\n",
    "    blur = cv2.medianBlur(frame, 7)\n",
    "    edge = cv2.Canny(frame, 220, 150)\n",
    "\n",
    "    cv2.imshow('frame', frame)\n",
    "    cv2.imshow('blur', blur)\n",
    "    cv2.imshow('edge', edge)\n",
    "\n",
    "    if cv2.waitKey(10) == 27:\n",
    "        break\n",
    "\n",
    "cap.release()\n",
    "cv2.destroyAllWindows()"
   ]
  },
  {
   "cell_type": "code",
   "execution_count": null,
   "id": "2caf79f1",
   "metadata": {},
   "outputs": [],
   "source": []
  }
 ],
 "metadata": {
  "kernelspec": {
   "display_name": "Python 3 (ipykernel)",
   "language": "python",
   "name": "python3"
  },
  "language_info": {
   "codemirror_mode": {
    "name": "ipython",
    "version": 3
   },
   "file_extension": ".py",
   "mimetype": "text/x-python",
   "name": "python",
   "nbconvert_exporter": "python",
   "pygments_lexer": "ipython3",
   "version": "3.9.7"
  }
 },
 "nbformat": 4,
 "nbformat_minor": 5
}
