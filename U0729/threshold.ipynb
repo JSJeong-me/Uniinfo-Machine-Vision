{
 "cells": [
  {
   "cell_type": "code",
   "execution_count": null,
   "metadata": {},
   "outputs": [],
   "source": []
  },
  {
   "cell_type": "code",
   "execution_count": 1,
   "metadata": {},
   "outputs": [],
   "source": [
    "import sys\n",
    "import cv2\n",
    "#import numpy as np\n",
    "import histogram"
   ]
  },
  {
   "cell_type": "code",
   "execution_count": 2,
   "metadata": {},
   "outputs": [],
   "source": [
    "#filename = '.\\\\1-00017.jpg'\n",
    "#filename = '.\\\\2_11_11.png'\n",
    "#filename = '.\\\\crack0.jpg'\n",
    "filename = '.\\\\lanes1.jpg'\n",
    "#filename = '.\\\\welding3.jpg'\n",
    "\n",
    "#if len(sys.argv) > 1:\n",
    "#    filename = sys.argv[1]\n",
    "\n",
    "src = cv2.imread(filename, cv2.IMREAD_GRAYSCALE)\n",
    "\n",
    "if src is None:\n",
    "    print('Image load failed!')\n",
    "    sys.exit()\n",
    "    \n",
    "src = cv2.resize(src, (0, 0), fx=0.5, fy=0.5)\n",
    "cv2.imshow('src', src)\n",
    "\n",
    "hist_img = histogram.getGrayHistImage(histogram.calcGrayHist(src))\n",
    "hist_img = cv2.cvtColor(hist_img, cv2.COLOR_GRAY2BGR)\n",
    "cv2.imshow('hist_img', hist_img)\n",
    "\n",
    "def on_threshold(pos):\n",
    "    _, dst = cv2.threshold(src, pos, 255, cv2.THRESH_BINARY)\n",
    "    hist_img2 = hist_img.copy()\n",
    "    cv2.line(hist_img2, (pos, 0), (pos, 100), (0, 128, 255))\n",
    "    cv2.imshow('hist_img', hist_img2)\n",
    "    cv2.imshow('dst', dst)\n",
    "\n",
    "\n",
    "cv2.namedWindow('dst')\n",
    "cv2.createTrackbar('Threshold', 'dst', 0, 255, on_threshold)\n",
    "cv2.setTrackbarPos('Threshold', 'dst', 130)\n",
    "\n",
    "cv2.waitKey()\n",
    "\n",
    "cv2.destroyAllWindows()"
   ]
  },
  {
   "cell_type": "code",
   "execution_count": null,
   "metadata": {},
   "outputs": [],
   "source": []
  }
 ],
 "metadata": {
  "kernelspec": {
   "display_name": "Python 3",
   "language": "python",
   "name": "python3"
  },
  "language_info": {
   "codemirror_mode": {
    "name": "ipython",
    "version": 3
   },
   "file_extension": ".py",
   "mimetype": "text/x-python",
   "name": "python",
   "nbconvert_exporter": "python",
   "pygments_lexer": "ipython3",
   "version": "3.7.6"
  }
 },
 "nbformat": 4,
 "nbformat_minor": 4
}
