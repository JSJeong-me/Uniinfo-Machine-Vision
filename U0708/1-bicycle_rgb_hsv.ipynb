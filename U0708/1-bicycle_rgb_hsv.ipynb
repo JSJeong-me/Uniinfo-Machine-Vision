{
  "nbformat": 4,
  "nbformat_minor": 0,
  "metadata": {
    "colab": {
      "name": "Untitled0.ipynb",
      "provenance": [],
      "machine_shape": "hm",
      "authorship_tag": "ABX9TyPvTid0zLdG2aj64dYBmsHh",
      "include_colab_link": true
    },
    "kernelspec": {
      "name": "python3",
      "display_name": "Python 3"
    },
    "language_info": {
      "name": "python"
    },
    "accelerator": "GPU"
  },
  "cells": [
    {
      "cell_type": "markdown",
      "metadata": {
        "id": "view-in-github",
        "colab_type": "text"
      },
      "source": [
        "<a href=\"https://colab.research.google.com/github/JSJeong-me/Uniinfo-Machine-Vision/blob/main/U0708/1-bicycle_rgb_hsv.ipynb\" target=\"_parent\"><img src=\"https://colab.research.google.com/assets/colab-badge.svg\" alt=\"Open In Colab\"/></a>"
      ]
    },
    {
      "cell_type": "code",
      "metadata": {
        "id": "V8k7ofY-FSgi"
      },
      "source": [
        "import cv2\n",
        "from google.colab.patches import cv2_imshow"
      ],
      "execution_count": null,
      "outputs": []
    },
    {
      "cell_type": "code",
      "source": [
        "cv2.__version__"
      ],
      "metadata": {
        "id": "riJvYYIkaX8d"
      },
      "execution_count": null,
      "outputs": []
    },
    {
      "cell_type": "code",
      "metadata": {
        "id": "_rHcCNAaGwEm"
      },
      "source": [
        "src = cv2.imread('./bicycle.png', cv2.IMREAD_UNCHANGED)"
      ],
      "execution_count": null,
      "outputs": []
    },
    {
      "cell_type": "code",
      "metadata": {
        "id": "GBNFoj1ZMPRa"
      },
      "source": [
        "src_rgb = cv2.cvtColor(src, cv2.COLOR_BGR2RGB)"
      ],
      "execution_count": null,
      "outputs": []
    },
    {
      "cell_type": "code",
      "source": [
        "#src_rgb = cv2.resize(src_rgb, (0,0), fx=0.3, fy=0.3)"
      ],
      "metadata": {
        "id": "Yi8GxfNzbVn9"
      },
      "execution_count": null,
      "outputs": []
    },
    {
      "cell_type": "code",
      "metadata": {
        "id": "EW43201OG2rm"
      },
      "source": [
        "cv2_imshow(src)"
      ],
      "execution_count": null,
      "outputs": []
    },
    {
      "cell_type": "code",
      "source": [
        ""
      ],
      "metadata": {
        "id": "Oh069bFjauzv"
      },
      "execution_count": null,
      "outputs": []
    },
    {
      "cell_type": "code",
      "metadata": {
        "id": "wnzoiv5vL4D7"
      },
      "source": [
        "import numpy as np"
      ],
      "execution_count": null,
      "outputs": []
    },
    {
      "cell_type": "code",
      "metadata": {
        "id": "DNo_eUlWLpST"
      },
      "source": [
        "low_yellow = np.array([221, 195, 5])\n",
        "high_yellow = np.array([255, 208, 58])"
      ],
      "execution_count": null,
      "outputs": []
    },
    {
      "cell_type": "code",
      "metadata": {
        "id": "OjPoXAe6MAE5"
      },
      "source": [
        "mask = cv2.inRange(src_rgb, low_yellow, high_yellow)"
      ],
      "execution_count": null,
      "outputs": []
    },
    {
      "cell_type": "code",
      "metadata": {
        "id": "6WWhUFLtMhHK"
      },
      "source": [
        "result_src = cv2.bitwise_and(src, src, mask = mask)"
      ],
      "execution_count": null,
      "outputs": []
    },
    {
      "cell_type": "code",
      "metadata": {
        "id": "2vFcX7kBNOce"
      },
      "source": [
        "cv2_imshow(result_src)"
      ],
      "execution_count": null,
      "outputs": []
    },
    {
      "cell_type": "code",
      "metadata": {
        "id": "AaV9LTjfRako"
      },
      "source": [
        "low_yellow = np.array([0, 192, 0])\n",
        "high_yellow = np.array([255, 255, 255])"
      ],
      "execution_count": null,
      "outputs": []
    },
    {
      "cell_type": "code",
      "metadata": {
        "id": "mRnJWDs3RzPi"
      },
      "source": [
        "src_hsv = cv2.cvtColor(src, cv2.COLOR_BGR2HSV)"
      ],
      "execution_count": null,
      "outputs": []
    },
    {
      "cell_type": "code",
      "metadata": {
        "id": "1wlbUl-ASDkg"
      },
      "source": [
        "mask = cv2.inRange(src_hsv, low_yellow, high_yellow)"
      ],
      "execution_count": null,
      "outputs": []
    },
    {
      "cell_type": "code",
      "metadata": {
        "id": "JI4th7gjSMDq"
      },
      "source": [
        "result_src = cv2.bitwise_and(src, src, mask = mask)"
      ],
      "execution_count": null,
      "outputs": []
    },
    {
      "cell_type": "code",
      "metadata": {
        "id": "kOLvHwvTSTB8"
      },
      "source": [
        "cv2_imshow(result_src)"
      ],
      "execution_count": null,
      "outputs": []
    }
  ]
}