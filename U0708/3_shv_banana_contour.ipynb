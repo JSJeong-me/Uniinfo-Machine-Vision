{
  "cells": [
    {
      "cell_type": "markdown",
      "metadata": {
        "id": "view-in-github",
        "colab_type": "text"
      },
      "source": [
        "<a href=\"https://colab.research.google.com/github/JSJeong-me/Uniinfo-Machine-Vision/blob/main/U0708/3_shv_banana_contour.ipynb\" target=\"_parent\"><img src=\"https://colab.research.google.com/assets/colab-badge.svg\" alt=\"Open In Colab\"/></a>"
      ]
    },
    {
      "cell_type": "code",
      "execution_count": 1,
      "id": "045bb924-5710-45b8-bf5a-6044e1bdbf99",
      "metadata": {
        "id": "045bb924-5710-45b8-bf5a-6044e1bdbf99"
      },
      "outputs": [],
      "source": [
        "import cv2\n",
        "import numpy as np\n",
        "from google.colab.patches import cv2_imshow"
      ]
    },
    {
      "cell_type": "code",
      "execution_count": 2,
      "id": "8ec81fab-5325-48df-b315-4774e5a8705f",
      "metadata": {
        "id": "8ec81fab-5325-48df-b315-4774e5a8705f"
      },
      "outputs": [],
      "source": [
        "src1 = cv2.imread('./banana3.png')"
      ]
    },
    {
      "cell_type": "code",
      "execution_count": 3,
      "id": "e1ce948c-bdee-48f3-ac1b-8e6a907f8c37",
      "metadata": {
        "id": "e1ce948c-bdee-48f3-ac1b-8e6a907f8c37"
      },
      "outputs": [],
      "source": [
        "src2 = cv2.cvtColor(src1, cv2.COLOR_BGR2HSV)"
      ]
    },
    {
      "cell_type": "markdown",
      "id": "a0f69c3d-078f-4f6c-90d4-dbc0ad5df2da",
      "metadata": {
        "id": "a0f69c3d-078f-4f6c-90d4-dbc0ad5df2da"
      },
      "source": [
        "69 81 130\n",
        "255 255 255   # Green\n",
        "\n",
        "19 0 237 255 255 255  # Yellow  \n",
        "\n",
        "0  185 215\n",
        "255 255 255   # Red\n"
      ]
    },
    {
      "cell_type": "code",
      "execution_count": 4,
      "id": "ff22912a-30fe-4a54-a94c-8bd2d8193274",
      "metadata": {
        "id": "ff22912a-30fe-4a54-a94c-8bd2d8193274"
      },
      "outputs": [],
      "source": [
        "# 14 60 146 low H S V\n",
        "# 164 255 255 High H S V"
      ]
    },
    {
      "cell_type": "code",
      "execution_count": 5,
      "id": "8c130116-a9b8-4891-bbde-a341afda8339",
      "metadata": {
        "id": "8c130116-a9b8-4891-bbde-a341afda8339"
      },
      "outputs": [],
      "source": [
        "low_green = np.array([12, 58, 144])\n",
        "high_green = np.array([166, 255, 255])"
      ]
    },
    {
      "cell_type": "code",
      "execution_count": 6,
      "id": "9aa0eb8a-e179-4a7b-bd53-2567576e15fc",
      "metadata": {
        "id": "9aa0eb8a-e179-4a7b-bd53-2567576e15fc"
      },
      "outputs": [],
      "source": [
        "low_yellow = np.array([19, 37, 181])\n",
        "high_yellow = np.array([255, 255, 255])"
      ]
    },
    {
      "cell_type": "code",
      "execution_count": 7,
      "id": "932d86c9-24e4-423e-ace5-59379c8ed310",
      "metadata": {
        "id": "932d86c9-24e4-423e-ace5-59379c8ed310"
      },
      "outputs": [],
      "source": [
        "low_red = np.array([0, 183, 213])\n",
        "high_red = np.array([255, 255, 255])"
      ]
    },
    {
      "cell_type": "code",
      "execution_count": 8,
      "id": "5831080f-629e-4a24-b8db-a315ed7b5e79",
      "metadata": {
        "id": "5831080f-629e-4a24-b8db-a315ed7b5e79"
      },
      "outputs": [],
      "source": [
        "mask = cv2.inRange(src2, low_green, high_green)\n",
        "#mask = cv2.inRange(src2, low_yellow, high_yellow)\n",
        "#mask = cv2.inRange(src2, low_red, high_red)"
      ]
    },
    {
      "cell_type": "code",
      "execution_count": 9,
      "id": "2b90761e-fd23-4b74-8df8-bea175ce3141",
      "metadata": {
        "id": "2b90761e-fd23-4b74-8df8-bea175ce3141"
      },
      "outputs": [],
      "source": [
        "src1_sub = cv2.bitwise_and(src2, src2, mask = mask)"
      ]
    },
    {
      "cell_type": "code",
      "execution_count": 10,
      "id": "0c8a5ed6-890a-45da-a66c-0caa9f1670a2",
      "metadata": {
        "colab": {
          "base_uri": "https://localhost:8080/",
          "height": 211
        },
        "id": "0c8a5ed6-890a-45da-a66c-0caa9f1670a2",
        "outputId": "926866c5-f28d-4f60-f749-6ce174ee435b"
      },
      "outputs": [
        {
          "output_type": "display_data",
          "data": {
            "text/plain": [
              "<PIL.Image.Image image mode=RGB size=259x194 at 0x7F5A6AE7C910>"
            ],
            "image/png": "[encoded data removed]"
          },
          "metadata": {}
        }
      ],
      "source": [
        "# cv2.imshow('Signal', src1)\n",
        "# cv2.imshow('Mask', mask)\n",
        "# cv2.imshow('Substraction', src1_sub)\n",
        "# cv2.waitKey(0) # 0 forever \n",
        "# cv2.destroyAllWindows()\n",
        "\n",
        "cv2_imshow(src1_sub)"
      ]
    },
    {
      "cell_type": "code",
      "execution_count": 10,
      "id": "0e4c55ac-78d6-47d7-a000-a5f5068a5c18",
      "metadata": {
        "id": "0e4c55ac-78d6-47d7-a000-a5f5068a5c18"
      },
      "outputs": [],
      "source": [
        ""
      ]
    },
    {
      "cell_type": "code",
      "execution_count": 10,
      "id": "f14dcdc4-0381-4191-bf69-c9837d3e08e6",
      "metadata": {
        "id": "f14dcdc4-0381-4191-bf69-c9837d3e08e6"
      },
      "outputs": [],
      "source": [
        ""
      ]
    },
    {
      "cell_type": "code",
      "execution_count": 10,
      "id": "14a8e753-db5b-4c43-a8f4-fd59c4b67402",
      "metadata": {
        "id": "14a8e753-db5b-4c43-a8f4-fd59c4b67402"
      },
      "outputs": [],
      "source": [
        ""
      ]
    }
  ],
  "metadata": {
    "kernelspec": {
      "display_name": "Python KOSA",
      "language": "python",
      "name": "kosa"
    },
    "language_info": {
      "codemirror_mode": {
        "name": "ipython",
        "version": 3
      },
      "file_extension": ".py",
      "mimetype": "text/x-python",
      "name": "python",
      "nbconvert_exporter": "python",
      "pygments_lexer": "ipython3",
      "version": "3.8.12"
    },
    "colab": {
      "name": "3-shv-banana-contour.ipynb",
      "provenance": [],
      "include_colab_link": true
    }
  },
  "nbformat": 4,
  "nbformat_minor": 5
}